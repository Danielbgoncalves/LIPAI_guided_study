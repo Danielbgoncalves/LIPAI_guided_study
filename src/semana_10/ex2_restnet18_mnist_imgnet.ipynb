{
  "cells": [
    {
      "cell_type": "markdown",
      "metadata": {
        "id": "60HeB69LXWL_"
      },
      "source": [
        "# Utilizando resnet18 com os pesos pré-treinados do imagenet (ResNet18_Weights.IMAGENET1K_V1) para avaliar os datasets ImageNet e MNIST"
      ]
    },
    {
      "cell_type": "markdown",
      "metadata": {
        "id": "533IEB-_XhvC"
      },
      "source": [
        "## Carregar os datasets"
      ]
    },
    {
      "cell_type": "markdown",
      "metadata": {
        "id": "imU2IYQKXoH5"
      },
      "source": [
        "### MNIST"
      ]
    },
    {
      "cell_type": "code",
      "execution_count": 1,
      "metadata": {
        "colab": {
          "base_uri": "https://localhost:8080/"
        },
        "id": "46RgWV20Wg2h",
        "outputId": "bbf682ae-03ad-4312-ea62-84840e2344ce"
      },
      "outputs": [
        {
          "output_type": "stream",
          "name": "stderr",
          "text": [
            "100%|██████████| 9.91M/9.91M [00:00<00:00, 18.7MB/s]\n",
            "100%|██████████| 28.9k/28.9k [00:00<00:00, 509kB/s]\n",
            "100%|██████████| 1.65M/1.65M [00:00<00:00, 4.63MB/s]\n",
            "100%|██████████| 4.54k/4.54k [00:00<00:00, 9.33MB/s]\n"
          ]
        }
      ],
      "source": [
        "import torchvision\n",
        "from torchvision import transforms, datasets\n",
        "\n",
        "transform_mnist = transforms.Compose([\n",
        "    transforms.Resize((224,224)),\n",
        "    transforms.Grayscale(num_output_channels=3),\n",
        "    transforms.ToTensor(),\n",
        "    transforms.Normalize((0.1307, 0.1307, 0.1307),\n",
        "                         (0.3081, 0.3081, 0.3081))\n",
        "])\n",
        "\n",
        "mnist_test = datasets.MNIST(root='/home/storopoli/Downloads', train=False, transform=transform_mnist, download=True)"
      ]
    },
    {
      "cell_type": "code",
      "execution_count": null,
      "metadata": {
        "id": "1414a572"
      },
      "outputs": [],
      "source": [
        "#%pip install sympy==1.11.0"
      ]
    },
    {
      "cell_type": "code",
      "execution_count": 6,
      "metadata": {
        "id": "X4lClW5Wrcpt"
      },
      "outputs": [],
      "source": [
        "from torch.utils.data import DataLoader\n",
        "\n",
        "batch_size=32\n",
        "\n",
        "mnist_test_loader = DataLoader(dataset=mnist_test, batch_size=batch_size, shuffle=False)"
      ]
    },
    {
      "cell_type": "markdown",
      "metadata": {
        "id": "9XhVEts6aBm3"
      },
      "source": [
        "### ImageNet"
      ]
    },
    {
      "cell_type": "code",
      "execution_count": 7,
      "metadata": {
        "colab": {
          "base_uri": "https://localhost:8080/"
        },
        "id": "lPDUNzTsXqzG",
        "outputId": "c47bdc83-1942-42a6-e263-d74d0ff5b029"
      },
      "outputs": [
        {
          "output_type": "stream",
          "name": "stdout",
          "text": [
            "Drive already mounted at /content/drive; to attempt to forcibly remount, call drive.mount(\"/content/drive\", force_remount=True).\n"
          ]
        }
      ],
      "source": [
        "from google.colab import drive\n",
        "\n",
        "drive.mount('/content/drive')"
      ]
    },
    {
      "cell_type": "code",
      "execution_count": 8,
      "metadata": {
        "colab": {
          "base_uri": "https://localhost:8080/"
        },
        "id": "z0ezkc9rbt5r",
        "outputId": "c1278f56-cf31-4203-c40e-6852e1b29cab"
      },
      "outputs": [
        {
          "output_type": "stream",
          "name": "stdout",
          "text": [
            "--2025-10-01 00:24:44--  http://cs231n.stanford.edu/tiny-imagenet-200.zip\n",
            "Resolving cs231n.stanford.edu (cs231n.stanford.edu)... 171.64.64.64\n",
            "Connecting to cs231n.stanford.edu (cs231n.stanford.edu)|171.64.64.64|:80... connected.\n",
            "HTTP request sent, awaiting response... 301 Moved Permanently\n",
            "Location: https://cs231n.stanford.edu/tiny-imagenet-200.zip [following]\n",
            "--2025-10-01 00:24:44--  https://cs231n.stanford.edu/tiny-imagenet-200.zip\n",
            "Connecting to cs231n.stanford.edu (cs231n.stanford.edu)|171.64.64.64|:443... connected.\n",
            "HTTP request sent, awaiting response... 200 OK\n",
            "Length: 248100043 (237M) [application/zip]\n",
            "Saving to: ‘/content/tiny-imagenet-200.zip’\n",
            "\n",
            "tiny-imagenet-200.z 100%[===================>] 236.61M  27.3MB/s    in 8.0s    \n",
            "\n",
            "2025-10-01 00:24:52 (29.4 MB/s) - ‘/content/tiny-imagenet-200.zip’ saved [248100043/248100043]\n",
            "\n",
            "^C\n"
          ]
        }
      ],
      "source": [
        "# # baixar zip do site da stanford\n",
        "!wget http://cs231n.stanford.edu/tiny-imagenet-200.zip -P /content/\n",
        "print('Baixado!')\n",
        "\n",
        "# # descompactar\n",
        "!unzip -q /content/tiny-imagenet-200.zip -d /content/\n",
        "print('Descompactado!')\n",
        "\n",
        "# # Move para o drive\n",
        "!mv /content/tiny-imagenet-200 /content/drive/MyDrive/tiny-imagenet-200\n",
        "print('Movido para o drive!')"
      ]
    },
    {
      "cell_type": "code",
      "execution_count": 9,
      "metadata": {
        "colab": {
          "base_uri": "https://localhost:8080/"
        },
        "id": "VT-SZOFDn0e3",
        "outputId": "e9c4b5b7-7eed-4f54-c8c7-926c89892dd0"
      },
      "outputs": [
        {
          "output_type": "stream",
          "name": "stdout",
          "text": [
            "rm: cannot remove '/content/drive/MyDrive/tiny-imagenet-200/val': No such file or directory\n",
            "^C\n"
          ]
        }
      ],
      "source": [
        "# Não entendo qual o problema que o !mv tem mas ele não esta copiando a pasta val\n",
        "# O jeito é fazer manualmente\n",
        "!rm -r /content/drive/MyDrive/tiny-imagenet-200/val\n",
        "!mv /content/tiny-imagenet-200/val /content/drive/MyDrive/tiny-imagenet-200\n",
        "print('Movido para o drive!')\n"
      ]
    },
    {
      "cell_type": "code",
      "execution_count": 10,
      "metadata": {
        "colab": {
          "base_uri": "https://localhost:8080/"
        },
        "id": "tWp_lW0JkCit",
        "outputId": "ff1e7fc7-864b-4ce0-bdeb-e1190e9bd8dd"
      },
      "outputs": [
        {
          "output_type": "stream",
          "name": "stdout",
          "text": [
            "Val dataset reorganizado!\n"
          ]
        }
      ],
      "source": [
        "import os\n",
        "import shutil\n",
        "\n",
        "val_dir = '/content/drive/MyDrive/tiny-imagenet-200/val/images'\n",
        "val_anno = '/content/drive/MyDrive/tiny-imagenet-200/val/val_annotations.txt'\n",
        "output_dir = '/content/drive/MyDrive/tiny-imagenet-200/val/'\n",
        "\n",
        "# Lê as anotações e cria subpastas\n",
        "with open(val_anno, 'r') as f:\n",
        "    for line in f:\n",
        "        parts = line.strip().split('\\t')\n",
        "        img, class_id = parts[0], parts[1]\n",
        "\n",
        "        # Cria a pasta da classe se não existir\n",
        "        class_dir = os.path.join(output_dir, class_id)\n",
        "        os.makedirs(class_dir, exist_ok=True)\n",
        "\n",
        "        # Move a imagem para a pasta certa\n",
        "        img_src = os.path.join(val_dir, img)\n",
        "        img_dst = os.path.join(class_dir, img)\n",
        "        if os.path.exists(img_src):\n",
        "            shutil.move(img_src, img_dst)\n",
        "\n",
        "print(\"Val dataset reorganizado!\")"
      ]
    },
    {
      "cell_type": "code",
      "execution_count": 12,
      "metadata": {
        "id": "k4md0vn-bqkG"
      },
      "outputs": [],
      "source": [
        "from torchvision import datasets\n",
        "\n",
        "transforms_imgnet = transforms.Compose([\n",
        "    transforms.Resize((224,224)),\n",
        "    transforms.ToTensor()\n",
        "])\n",
        "\n",
        "imgnet_test = datasets.ImageFolder(\n",
        "    root='/content/tiny-imagenet-200/val',\n",
        "    transform=transforms_imgnet\n",
        ")\n",
        "\n",
        "imgnet_test_loader = DataLoader(dataset=imgnet_test, batch_size=batch_size, shuffle=False)"
      ]
    },
    {
      "cell_type": "markdown",
      "metadata": {
        "id": "eR-3LBqMcJKk"
      },
      "source": [
        "## Criar a rede da ResNet18"
      ]
    },
    {
      "cell_type": "code",
      "execution_count": 13,
      "metadata": {
        "colab": {
          "base_uri": "https://localhost:8080/"
        },
        "id": "XvwEVTQzcb0Y",
        "outputId": "5be38c52-f247-415d-f381-08730720d90a"
      },
      "outputs": [
        {
          "output_type": "stream",
          "name": "stdout",
          "text": [
            "Downloading: \"https://download.pytorch.org/models/resnet18-f37072fd.pth\" to /root/.cache/torch/hub/checkpoints/resnet18-f37072fd.pth\n"
          ]
        },
        {
          "output_type": "stream",
          "name": "stderr",
          "text": [
            "100%|██████████| 44.7M/44.7M [00:00<00:00, 179MB/s]\n"
          ]
        }
      ],
      "source": [
        "from torchvision import models\n",
        "import torch.nn as nn\n",
        "\n",
        "# Carrega-la já pré-treinada\n",
        "\n",
        "# MNIST\n",
        "resnet_mnist = models.resnet18(weights=\"DEFAULT\")\n",
        "resnet_mnist.fc = nn.Linear(resnet_mnist.fc.in_features, 10)\n",
        "\n",
        "# ImageNet\n",
        "resnet_imgnet = models.resnet18(weights=\"DEFAULT\")\n",
        "resnet_imgnet.fc = nn.Linear(resnet_imgnet.fc.in_features, 200)"
      ]
    },
    {
      "cell_type": "markdown",
      "metadata": {
        "id": "p_av8mwOdlse"
      },
      "source": [
        "## GPU"
      ]
    },
    {
      "cell_type": "code",
      "execution_count": 14,
      "metadata": {
        "colab": {
          "base_uri": "https://localhost:8080/"
        },
        "id": "5U42T3x2doEl",
        "outputId": "52ca540e-451a-49ee-d258-b7e7f3c2f003"
      },
      "outputs": [
        {
          "output_type": "execute_result",
          "data": {
            "text/plain": [
              "True"
            ]
          },
          "metadata": {},
          "execution_count": 14
        }
      ],
      "source": [
        "import torch\n",
        "torch.cuda.is_available()"
      ]
    },
    {
      "cell_type": "markdown",
      "metadata": {
        "id": "ihit_UrQdY90"
      },
      "source": [
        "## Validação"
      ]
    },
    {
      "cell_type": "markdown",
      "metadata": {
        "id": "IZIav4jFdzQv"
      },
      "source": [
        "### MNIST"
      ]
    },
    {
      "cell_type": "code",
      "execution_count": null,
      "metadata": {
        "colab": {
          "background_save": true,
          "base_uri": "https://localhost:8080/"
        },
        "id": "g4pGHCKCd1Gf",
        "outputId": "25cc1509-4e30-4da7-c8ba-fdc5eff15b0c"
      },
      "outputs": [
        {
          "name": "stdout",
          "output_type": "stream",
          "text": [
            "Processado 50 batches...\n",
            "Processado 100 batches...\n",
            "Processado 150 batches...\n",
            "Processado 200 batches...\n",
            "Processado 250 batches...\n",
            "Processado 300 batches...\n",
            "Acurácia do Modelo em 10K imagens de teste: 8.23\n"
          ]
        }
      ],
      "source": [
        "resnet_mnist.eval() # coloca o modelo em modo de avaliação (sem calcular gradientes)\n",
        "\n",
        "with torch.no_grad():\n",
        "    correct = 0\n",
        "    total = 0\n",
        "    i = 0\n",
        "    for images, labels in mnist_test_loader:\n",
        "        if (i+1) % 50 == 0:\n",
        "          print(f\"Processado {i+1} batches...\")\n",
        "\n",
        "        # Feed-forward com as imagens de teste\n",
        "        outputs = resnet_mnist(images)\n",
        "\n",
        "        # gera predições usando a função max()\n",
        "        _, predicted = torch.max(outputs.data, 1)\n",
        "\n",
        "        # Acumula total e corretas\n",
        "        total += labels.size(0)\n",
        "        correct += (predicted == labels).sum().item()\n",
        "\n",
        "        i+=1\n",
        "\n",
        "    print(f\"Acurácia do Modelo em 10K imagens de teste: {round((correct / total) * 100, 3)}\")"
      ]
    },
    {
      "cell_type": "markdown",
      "metadata": {
        "id": "fyHgHREyd_nc"
      },
      "source": [
        "### ImageNet"
      ]
    },
    {
      "cell_type": "code",
      "execution_count": 15,
      "metadata": {
        "id": "zC3WRUyQeCCp",
        "colab": {
          "base_uri": "https://localhost:8080/"
        },
        "outputId": "d7731994-d7dc-44d0-f3bc-8dbe85c6a4d8"
      },
      "outputs": [
        {
          "output_type": "stream",
          "name": "stdout",
          "text": [
            "Acurácia do Modelo em 10K imagens de teste: 0.25\n"
          ]
        }
      ],
      "source": [
        "resnet_imgnet.eval() # coloca o modelo em modo de avaliação (sem calcular gradientes)\n",
        "\n",
        "with torch.no_grad():\n",
        "    correct = 0\n",
        "    total = 0\n",
        "    for images, labels in imgnet_test_loader:\n",
        "        # Feed-forward com as imagens de teste\n",
        "        outputs = resnet_imgnet(images)\n",
        "\n",
        "        # gera predições usando a função max()\n",
        "        _, predicted = torch.max(outputs.data, 1)\n",
        "\n",
        "        # Acumula total e corretas\n",
        "        total += labels.size(0)\n",
        "        correct += (predicted == labels).sum().item()\n",
        "\n",
        "    print(f\"Acurácia do Modelo em 10K imagens de teste: {round((correct / total) * 100, 3)}\")"
      ]
    }
  ],
  "metadata": {
    "accelerator": "GPU",
    "colab": {
      "collapsed_sections": [
        "9XhVEts6aBm3",
        "p_av8mwOdlse"
      ],
      "gpuType": "T4",
      "provenance": []
    },
    "kernelspec": {
      "display_name": "Python 3",
      "name": "python3"
    },
    "language_info": {
      "name": "python"
    }
  },
  "nbformat": 4,
  "nbformat_minor": 0
}