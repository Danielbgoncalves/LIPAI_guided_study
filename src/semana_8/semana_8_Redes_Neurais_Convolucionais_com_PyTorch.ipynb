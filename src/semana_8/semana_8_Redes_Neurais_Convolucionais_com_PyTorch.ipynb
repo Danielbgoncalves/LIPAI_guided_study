{
  "cells": [
    {
      "cell_type": "markdown",
      "metadata": {
        "id": "fb2cw_kWF0eY"
      },
      "source": [
        "[![Binder](https://mybinder.org/badge_logo.svg)](https://mybinder.org/v2/gh/storopoli/ciencia-de-dados/main?filepath=notebooks%2FAula_19_Redes_Neurais_Convolucionais_com_PyTorch.ipynb)\n",
        "<br>\n",
        "[![Open In Colab](https://colab.research.google.com/assets/colab-badge.svg)](https://colab.research.google.com/github/storopoli/ciencia-de-dados/blob/main/notebooks/Aula_19_Redes_Neurais_Convolucionais_com_PyTorch.ipynb)"
      ]
    },
    {
      "cell_type": "markdown",
      "metadata": {
        "id": "XIOm_OPPF0ei"
      },
      "source": [
        "# Redes Neurais Convolucionais com PyTorch\n",
        "\n",
        "**Objetivos**: Aprender Redes Neurais Convolucionais (_Convolution Neural Networks_ - CNN) usando a biblioteca `PyTorch`.\n",
        "\n",
        "> Observação: Algumas imagens foram adaptadas de [Adventures in Machine Learning](https://adventuresinmachinelearning.com/convolutional-neural-networks-tutorial-in-pytorch/) (Licença CC-BY-SA)."
      ]
    },
    {
      "cell_type": "markdown",
      "metadata": {
        "id": "bDqMgxa0F0ek"
      },
      "source": [
        "## PyTorch\n",
        "\n",
        "[**PyTorch**](https://www.pytorch.org/) é uma biblioteca de código aberto para aprendizado de máquina aplicável a uma ampla variedade de tarefas. Foi criada pelo **Facebook** em 2016 e é a principal biblioteca para criação e treinamento de redes neurais artificiais. A API toda é escrita em Python mas é executada em C++ na CPU ou em CUDA/ROCM na GPU.\n",
        "\n",
        "No momento que eu escrevo esse tutorial (Abril de 2021), PyTorch está superando o TensorFlow (Google) em desempenho e adoção de uso. Isso acontece tanto na [academia](http://horace.io/pytorch-vs-tensorflow/) (mensurado pela adoção de artigos científicos nos principais encontros científicos de Aprendizagem Profunda e Aprendizagem de Máquina) quanto na [indústria](https://www.infoworld.com/article/3597904/why-enterprises-are-turning-from-tensorflow-to-pytorch.html) (mensurado pela adoção de grandes e renomadas empresas de tecnologia).\n",
        "\n",
        "### Atualização (Junho 2022):\n",
        "\n",
        "TensorFlow está morto, Vida Longa ao PyTorch: [Google lost the battle for machine learning to Meta, insiders say. Now it's betting the future of its own products on a new internal AI project.](https://www.businessinsider.com/facebook-pytorch-beat-google-tensorflow-jax-meta-ai-2022-6).\n",
        "\n",
        "> Now, under the shadow of PyTorch, Google has been quietly building out a machine learning framework, called JAX (at one point an acronym for \"Just After eXecution,\" but officially no longer stands for anything), that many see as the successor to TensorFlow.\n",
        "\n",
        "Meus comentários: JAX é mais um backend de _autodiff_ do que uma biblioteca de redes neurais.\n",
        "Ou seja tem um uso muito mais amplo que PyTorch.\n",
        "Por exemplo, como um amostrador Monte Carlo de correntes ou cadeias Markov (_Markov Chain Monte Carlo_ - MCMC)."
      ]
    },
    {
      "cell_type": "markdown",
      "metadata": {
        "id": "JtqCOCrqF0em"
      },
      "source": [
        "## Imagens e Filtros\n",
        "\n",
        "Todo dado estruturado e não-esturutado é representado como matrizes no computador.\n",
        "Veja o caso de imagens.\n",
        "Elas são literalmente matrizes multidimensionais.\n",
        "\n",
        "* Uma imagem colorida é uma Array de dimensão $X \\times Y \\times 3$:\n",
        "    * $X$ = quantidade de pixels no eixo horizontal\n",
        "    * $Y$ = quantidade de pixels no eixo vertical\n",
        "    * $3$ = são 3 canais de cores - **R**ed, **G**reen e **B**lue"
      ]
    },
    {
      "cell_type": "markdown",
      "metadata": {
        "id": "-qONj9hzF0eo"
      },
      "source": [
        "<img src=\"https://github.com/storopoli/ciencia-de-dados/blob/main/notebooks/images/images_as_matrix.png?raw=1\" alt=\"Row vs Cols\" style=\"width: 500px;\"/>"
      ]
    },
    {
      "cell_type": "markdown",
      "metadata": {
        "id": "FeYqtka8F0fP"
      },
      "source": [
        "#### Convoluções\n",
        "\n",
        "Em matemática **[convolução](https://pt.wikipedia.org/wiki/Convolu%C3%A7%C3%A3o) é um operador linear** que, a partir de **duas funções dadas**, **resulta numa terceira que mede a soma do produto dessas funções ao longo da região** subentendida pela superposição delas em função do deslocamento existente entre elas.\n",
        "\n",
        "A notação para a convolução de $f$ e $g$ é $f*g$. Ela é definida como a integral do produto de uma das funções por uma cópia deslocada e invertida da outra; a função resultante $h$ depende do valor do deslocamento. Se $x$ for a variável independente e $u$, o deslocamento, a fórmula pode ser escrita como:\n",
        "\n",
        "$$(f * g) (x) = h(x) = \\int_{-\\infty}^{\\infty} f(u) \\cdot g(x-u) du$$\n",
        "\n",
        "Existe ainda uma definição de **convolução para funções de domínio discreto**, dada por\n",
        "\n",
        "$$(f * g) (k) = h(k)= \\sum_{j=0}^{k} f(j) \\cdot g(k-j)$$"
      ]
    },
    {
      "cell_type": "markdown",
      "metadata": {
        "id": "LkBIZs6UF0fQ"
      },
      "source": [
        "<img src=\"https://github.com/storopoli/ciencia-de-dados/blob/main/notebooks/images/convolution.gif?raw=1\" alt=\"Row vs Cols\" style=\"width: 400px;\"/>"
      ]
    },
    {
      "cell_type": "markdown",
      "metadata": {
        "id": "SIHbpX2bF0fR"
      },
      "source": [
        "Inclusive, convoluções, onde a \"máquina\" aprende os filtros (os números que vão dentro da matriz), é a base das redes neurais que detectam objetos!\n",
        "\n",
        "<img src=\"https://github.com/storopoli/ciencia-de-dados/blob/main/notebooks/images/deeplearning_convolutions.gif?raw=1\" alt=\"Deep Learning Convolutions\" style=\"width: 600px;\"/>"
      ]
    },
    {
      "cell_type": "markdown",
      "metadata": {
        "tags": [],
        "id": "_0ixyxT3F0fT"
      },
      "source": [
        "## O que é uma Rede Neural Artificial?\n",
        "\n",
        "Redes neurais artificiais (RNAs) são modelos computacionais inspirados pelo sistema nervoso central (em particular o cérebro) que são capazes de realizar o aprendizado de máquina bem como o reconhecimento de padrões. Redes neurais artificiais geralmente são apresentadas como sistemas de \"neurônios interconectados, que podem computar valores de entradas\", simulando o comportamento de redes neurais biológicas."
      ]
    },
    {
      "cell_type": "markdown",
      "metadata": {
        "id": "yBBGStBiF0fU"
      },
      "source": [
        "<img src=\"https://github.com/storopoli/ciencia-de-dados/blob/main/notebooks/images/redes_neurais.jpeg?raw=1\" alt=\"redes neurais\" style=\"width: 500px;\"/>"
      ]
    },
    {
      "cell_type": "markdown",
      "metadata": {
        "id": "aT7f1K9mF0fV"
      },
      "source": [
        "## Como a rede neural aprende?\n",
        "\n",
        "Em cada neurônio há uma função de ativação (*activation function*) que processa uma combinação linear entre _inputs_ e pesos sinápticos, gerando assim um sinal de saída.\n",
        "\n",
        "A informação flui da *input layer* para as *hidden layers* e por fim para a *output layer*. Nesse fluxo os inputs de dados da *input layer* são alimentados para os neurônios das *hidden layers* que por fim alimentam o neurônio final da *output layer*.\n",
        "\n",
        "A primeira passada de informação (propagação) pela rede é geralmente feita com parâmetros aleatórios para as funções de ativação dos neurônios.\n",
        "\n",
        "Ao realizar a propagação, chamada de *feed forward*, temos sinais de saídas nos neurônios da output layer.\n",
        "\n",
        "No fim da propagação, a função custo (uma métrica de erro) é calculada e o modelo então ajusta os parâmetros dos neurônios na direção de um menor custo (por meio do gradiente - derivada multivariada).\n",
        "\n",
        "Assim uma nova propagação é gerada e a numa nova função custo e calculada. Assim como é realizado a atualização dos parâmetros dos neurônios.\n",
        "\n",
        "O nome desse algoritmo é **Retro-propagação** (*Backpropagation*). E cada vez que ele é executado denomina-se como época (*epoch*). E quandos as épocas estabelecidas se encerram, a rede neural encerra o seu treinamento/aprendizagem."
      ]
    },
    {
      "cell_type": "markdown",
      "metadata": {
        "id": "GiUMafQpF0fW"
      },
      "source": [
        "<img src=\"https://github.com/storopoli/ciencia-de-dados/blob/main/notebooks/images/backpropagation.gif?raw=1\" alt=\"backpropagation\" style=\"width: 500px;\"/>"
      ]
    },
    {
      "cell_type": "markdown",
      "metadata": {
        "id": "xzZddHskF0fX"
      },
      "source": [
        "#### Por que Redes Neurais Convolucionais?\n",
        "As Redes Neurais Convolucionais têm a capacidade de **extrair automaticamente características dos padrões a serem aprendidos** (por meio das camadas de convolução), tarefa que necessariamente tem que ser implementada separadamente quando se emprega uma Rede Neural padrão (\"vanilla\", _**M**ulti**l**ayer **P**erceptron_ - MLP) ou um outro classificador convencional (por exemplo, _**S**upport **V**ector **M**achine_ - SVM)\n"
      ]
    },
    {
      "cell_type": "markdown",
      "metadata": {
        "id": "0SleZzENF0fZ"
      },
      "source": [
        "#### O que muda numa Rede Neural Convolucional?\n",
        "\n",
        "**Nada**.\n",
        "\n",
        "Apenas que a rede neural possui um maior número de parâmetros pois precisa aprender todos os parâmetros dos filtros e convoluções que ocorrem em algumas de suas camadas internas."
      ]
    },
    {
      "cell_type": "markdown",
      "metadata": {
        "id": "Qm2z2YxfF0fa"
      },
      "source": [
        "### Camadas Necessárias para Convolução\n",
        "\n",
        "As redes neurais convolucionais se distinguem de outras redes neurais por seu desempenho superior com dados de imagem, voz ou áudio. Elas têm três tipos principais de camadas, que são:\n",
        "\n",
        "* Camada Convolucional\n",
        "* Camada de _Pooling_\n",
        "* Camada de Neurônios Totalmente Conectados (também chamado de _Fully Connected_ ou _Dense_)\n"
      ]
    },
    {
      "cell_type": "markdown",
      "metadata": {
        "id": "1DpDUJy4F0fb"
      },
      "source": [
        "#### Camadas de Convolução (_Convolution Layers_)\n",
        "\n",
        "Isto é uma camada para uma \"janela\" ou \"filtro\" deslizante que passamos pela imagem.\n",
        "Essa \"janela\" aplica um certo peso aos neurônios (pixels) adjacentes de uma certa vizinhança de pixels.\n",
        "\n",
        "Filtro $2 \\times 2$ com todos os pesos igual a $0.5$:\n",
        "\n",
        "<img src=\"https://github.com/storopoli/ciencia-de-dados/blob/main/notebooks/images/moving-filter.webp?raw=1\" alt=\"filtro convolução 2x2\" style=\"width: 500px;\"/>"
      ]
    },
    {
      "cell_type": "markdown",
      "metadata": {
        "id": "CuEVqSrJF0fb"
      },
      "source": [
        "$$\\begin{align}\n",
        " out_1 &= 0.5 in_1 + 0.5 in_2 + 0.5 in_6 + 0.5 in_7 \\\\\n",
        " &= 0.5 \\times 2.0 + 0.5 \\times 3.0 + 0.5 \\times 2.0 + 0.5 \\times 1.5  \\\\\n",
        " &= 4.25 \\\\\n",
        " out_2 &= 0.5 in_2 + 0.5 in_3 + 0.5 in_7 + 0.5 in_8 \\\\\n",
        " &= 0.5 \\times 3.0 + 0.5 \\times 0.0 + 0.5 \\times 1.5 + 0.5 \\times 0.5  \\\\\n",
        " &= 2.5 \\\\\n",
        " \\end{align}$$"
      ]
    },
    {
      "cell_type": "markdown",
      "metadata": {
        "id": "bmx7aTunF0fb"
      },
      "source": [
        "Na rede neural este filtro funciona assim quando compararmos com relação a camada anterior (_inputs_):\n",
        "\n",
        "<img src=\"https://github.com/storopoli/ciencia-de-dados/blob/main/notebooks/images/moving-filter-node-diagram.webp?raw=1\" alt=\"filtro convolução 2x2\" style=\"width: 300px;\"/>"
      ]
    },
    {
      "cell_type": "markdown",
      "metadata": {
        "id": "IMfCSD_IF0fb"
      },
      "source": [
        "#### Camadas de _Pooling_\n",
        "\n",
        "Uma outra técnica de \"janela\" ou \"filtro\" deslizante, mas ao invés de aplicar pesos, aplica uma função estatística sobre os conteúdos da sua \"janela\".\n",
        "\n",
        "A função estatística mais comum é o máximo `max()`.\n",
        "Essa é chamada de _max pooling_.\n",
        "\n",
        "##### Duas vantagens:\n",
        "\n",
        "- Reduz o número de parâmetros do modelo por um processo chamado _down-sampling_\n",
        "- Faz com que a detecção de atributos seja mais robusta à mudanças na orientação do objeto e mudanças de escalas\n",
        "\n",
        "_Max pooling_ com _padding_:\n",
        "\n",
        "<img src=\"https://github.com/storopoli/ciencia-de-dados/blob/main/notebooks/images/max-pooling.webp?raw=1\" alt=\"Max Pooling\" style=\"width: 500px;\"/>"
      ]
    },
    {
      "cell_type": "markdown",
      "metadata": {
        "id": "TFmpmhTYF0fc"
      },
      "source": [
        "#### Juntanto todas as camadas\n",
        "\n",
        "<img src=\"https://github.com/storopoli/ciencia-de-dados/blob/main/notebooks/images/typical_cnn.webp?raw=1\" alt=\"Rede Neural Convolucional Típica\" style=\"width: 500px;\"/>"
      ]
    },
    {
      "cell_type": "markdown",
      "metadata": {
        "id": "uhvAP_P-F0fc"
      },
      "source": [
        "### Estruturação dos módulos de PyTorch\n",
        "\n",
        "```python\n",
        "import torch\n",
        "```\n",
        "* [`torch.Tensor`](https://pytorch.org/docs/stable/tensors.html) - Tensores (arrays N-D)\n",
        "* [`torch.nn`](https://pytorch.org/docs/stable/nn.html) - Redes Neurais (_**N**eural **N**etworks_)\n",
        "* [`torch.optim`](https://pytorch.org/docs/stable/optim.html) - Otimização (_**Optim**ization_)\n",
        "* [`torch.data`](https://pytorch.org/docs/stable/data.html) - *Datasets* e Ferramentas de Streaming de Dados\n",
        "* [`torch.autograd`](https://pytorch.org/docs/stable/autograd.html) - Diferenciação Automática (_**Auto**matic Differentiation_)\n",
        "* [`torch.vision`](https://pytorch.org/docs/stable/torchvision/index.html) - Ferramentas de Manipulação de Imagens e Visão Computacional\n",
        "* [`torch.audio`](https://pytorch.org/audio/stable/index.html) - Ferramentas de Manipulação de Áudio\n",
        "* [`torch.jit`](https://pytorch.org/docs/stable/jit.html) - Compilação _**j**ust-**i**n-**t**ime_ de modelos PyTorch em binários\n"
      ]
    },
    {
      "cell_type": "markdown",
      "metadata": {
        "id": "aBM_D9mOF0fc"
      },
      "source": [
        "### `torch.Tensor`\n",
        "\n",
        "* `NumPy` - `np.ndarray`\n",
        "* `pandas` - `pd.Series` e `pd.DataFrame`\n",
        "* `PyTorch` - `torch.Tensor`"
      ]
    },
    {
      "cell_type": "markdown",
      "metadata": {
        "id": "EtbfPje0F0fd"
      },
      "source": [
        "## Exemplo com o [MNIST](https://en.wikipedia.org/wiki/MNIST_database)\n",
        "\n",
        "O dataset **MNIST** (_**M**odified **N**ational **I**nstitute of **S**tandards and **T**echnology_) é um clássico de Deep Learning. São imagens preto e branco de dígitos de 0 a 9 de formato 28x28 pixels (784 pixels)\n",
        "\n",
        "Contém 60.000 imagens de treino e 10.000 de teste e é um padrão de benchmark de modelos (acho que \"foi\", não é tão usado assim mais)\n"
      ]
    },
    {
      "cell_type": "markdown",
      "metadata": {
        "id": "uFEIkdGIF0fd"
      },
      "source": [
        "<img src=\"https://github.com/storopoli/ciencia-de-dados/blob/main/notebooks/images/MNIST.png?raw=1\" alt=\"MNIST\" style=\"width: 500px;\"/>"
      ]
    },
    {
      "cell_type": "markdown",
      "metadata": {
        "id": "frNjfTlPF0fd"
      },
      "source": [
        "O pacote `torchvision` do `PyTorch` tem integrado já o dataset MNIST:"
      ]
    },
    {
      "cell_type": "code",
      "execution_count": 1,
      "metadata": {
        "id": "6pB8L2cIF0fe",
        "colab": {
          "base_uri": "https://localhost:8080/"
        },
        "outputId": "fcd27912-cad8-4457-f813-c51680027a24"
      },
      "outputs": [
        {
          "output_type": "stream",
          "name": "stderr",
          "text": [
            "100%|██████████| 9.91M/9.91M [00:00<00:00, 17.5MB/s]\n",
            "100%|██████████| 28.9k/28.9k [00:00<00:00, 481kB/s]\n",
            "100%|██████████| 1.65M/1.65M [00:00<00:00, 4.44MB/s]\n",
            "100%|██████████| 4.54k/4.54k [00:00<00:00, 16.2MB/s]\n"
          ]
        }
      ],
      "source": [
        "import torchvision\n",
        "from torchvision import transforms\n",
        "\n",
        "# MNIST dataset\n",
        "root_path = '/home/storopoli/Downloads' # mude isso no Colab se necessário\n",
        "\n",
        "# Pequena transformação para tensores e normalizando o tamanho\n",
        "trans = transforms.Compose([transforms.ToTensor(), transforms.Normalize((0.1307,), (0.3081,))])\n",
        "\n",
        "# Train/Validation/Test Datasets\n",
        "full_train_dataset = torchvision.datasets.MNIST(root=root_path, train=True, transform=trans, download=True)\n",
        "test_dataset = torchvision.datasets.MNIST(root=root_path, train=False, transform=trans)"
      ]
    },
    {
      "cell_type": "code",
      "source": [
        "# Exercício 2\n",
        "from torch.utils.data import random_split\n",
        "\n",
        "# Separação do dataset que era só de treino para também validação, 5000 / 1000\n",
        "n = len(full_train_dataset)\n",
        "valid_len = int(n * 0.83)\n",
        "train_len = n - valid_len\n",
        "\n",
        "train_dataset, validation_dataset = random_split(full_train_dataset, [train_len, valid_len])"
      ],
      "metadata": {
        "id": "oNuPy0DjT3zE"
      },
      "execution_count": 2,
      "outputs": []
    },
    {
      "cell_type": "code",
      "execution_count": 9,
      "metadata": {
        "id": "egwe6w5sF0fg",
        "outputId": "4937de3a-8ae7-414b-8259-d41b04e060ef",
        "colab": {
          "base_uri": "https://localhost:8080/"
        }
      },
      "outputs": [
        {
          "output_type": "execute_result",
          "data": {
            "text/plain": [
              "<torch.utils.data.dataset.Subset at 0x7c3193788a90>"
            ]
          },
          "metadata": {},
          "execution_count": 9
        }
      ],
      "source": [
        "train_dataset"
      ]
    },
    {
      "cell_type": "code",
      "execution_count": 10,
      "metadata": {
        "id": "gmor7eG4F0fi",
        "outputId": "9c1ba94c-b1b6-4a15-a587-f3aecac8997c",
        "colab": {
          "base_uri": "https://localhost:8080/"
        }
      },
      "outputs": [
        {
          "output_type": "execute_result",
          "data": {
            "text/plain": [
              "Dataset MNIST\n",
              "    Number of datapoints: 10000\n",
              "    Root location: /home/storopoli/Downloads\n",
              "    Split: Test\n",
              "    StandardTransform\n",
              "Transform: Compose(\n",
              "               ToTensor()\n",
              "               Normalize(mean=(0.1307,), std=(0.3081,))\n",
              "           )"
            ]
          },
          "metadata": {},
          "execution_count": 10
        }
      ],
      "source": [
        "test_dataset"
      ]
    },
    {
      "cell_type": "markdown",
      "metadata": {
        "id": "M-CLPoSBF0fk"
      },
      "source": [
        "Para controlar como que os dados são inseridos no modelo e, logo, o Batch Size é preciso implementar um [`torch.utils.data.DataLoader()`](https://pytorch.org/docs/stable/data.html#torch.utils.data.DataLoader).\n",
        "\n",
        "Argumentos do `DataLoader()`:\n",
        "\n",
        "* **`dataset`**: um `Dataset` PyTorch\n",
        "    * tem [vários tipos](https://pytorch.org/docs/stable/data.html)\n",
        "    * no nosso exemplo vou usar um simples [`TensorDataset`](https://pytorch.org/docs/stable/_modules/torch/utils/data/dataset.html#TensorDataset) que é um wrapper de `np.ndarray` e `pd.Series` para `torch.Tensor`)\n",
        "* **batch_size**: `int` - tamanho do Batch Size, padrão é 1\n",
        "* **shuffle**: `bool` - se vai embaralhar os dados antes de enviar em batches ao modelo, padrão é `False`. Recomendo usar `shuffle=True`"
      ]
    },
    {
      "cell_type": "code",
      "execution_count": 3,
      "metadata": {
        "id": "HmonqxTcF0fk"
      },
      "outputs": [],
      "source": [
        "from torch.utils.data import DataLoader\n",
        "\n",
        "batch_size=32\n",
        "\n",
        "train_loader = DataLoader(dataset=train_dataset, batch_size=batch_size, shuffle=True)\n",
        "validation_loader = DataLoader(dataset=validation_dataset, batch_size=batch_size, shuffle=False)\n",
        "test_loader = DataLoader(dataset=test_dataset, batch_size=batch_size, shuffle=False)"
      ]
    },
    {
      "cell_type": "markdown",
      "metadata": {
        "id": "fck7aCx2F0fm"
      },
      "source": [
        "#### [Camadas de Convolução (_Convolution Layers_)](https://pytorch.org/docs/stable/nn.html#convolution-layers)\n",
        "\n",
        "* [`nn.Conv1d`](https://pytorch.org/docs/stable/generated/torch.nn.Conv1d.html#torch.nn.Conv3d): convolução 1-D.\n",
        "* [`nn.Conv2d`](https://pytorch.org/docs/stable/generated/torch.nn.Conv2d.html): convolução 2-D.\n",
        "* [`nn.Conv3d`](https://pytorch.org/docs/stable/generated/torch.nn.Conv3d.html): convolução 3-D.\n",
        "\n",
        "#### [Camadas de _Pooling_](https://pytorch.org/docs/stable/nn.html#pooling-layers)\n",
        "\n",
        "* [`nn.MaxPool1d`](https://pytorch.org/docs/stable/generated/torch.nn.MaxPool1d.htm): 1-D _max pooling_.\n",
        "* [`nn.MaxPool2d`](https://pytorch.org/docs/stable/generated/torch.nn.MaxPool2d.htm): 2-D _max pooling_.\n",
        "* [`nn.MaxPool3d`](https://pytorch.org/docs/stable/generated/torch.nn.MaxPool3d.htm): 3-D _max pooling_."
      ]
    },
    {
      "cell_type": "markdown",
      "metadata": {
        "id": "hI87iWvEF0fm"
      },
      "source": [
        "### Qual a rede neural convolucional que vamos criar para o MNIST?\n",
        "\n",
        "<img src=\"https://github.com/storopoli/ciencia-de-dados/blob/main/notebooks/images/MNIST-CNN.webp?raw=1\" alt=\"MNIST CNN\" style=\"width: 700px;\"/>"
      ]
    },
    {
      "cell_type": "markdown",
      "metadata": {
        "id": "s-9MpMBXF0fn"
      },
      "source": [
        "## Como construir sua rede neural convolucional no PyTorch\n",
        "\n",
        "Construir redes neurais com o **PyTorch** é fácil.\n",
        "\n",
        "Temos que criar uma Rede Neural a partir de uma classe [`nn.Module()`](https://pytorch.org/docs/stable/generated/torch.nn.Module.html?highlight=module#torch.nn.Module) e criar um construtor com o método `__init__()` e implementar todas as layers e propagações desejadas com o método `forward()`."
      ]
    },
    {
      "cell_type": "code",
      "execution_count": 4,
      "metadata": {
        "id": "yFoVXcGGF0fn"
      },
      "outputs": [],
      "source": [
        "import torch.nn as nn"
      ]
    },
    {
      "cell_type": "code",
      "execution_count": 5,
      "metadata": {
        "id": "PqyvVaAKF0fo",
        "outputId": "332372f3-3150-49b0-f7dd-66b90a8acd9f",
        "colab": {
          "base_uri": "https://localhost:8080/"
        }
      },
      "outputs": [
        {
          "output_type": "stream",
          "name": "stdout",
          "text": [
            "ConvNet(\n",
            "  (layer1): Sequential(\n",
            "    (0): Conv2d(1, 32, kernel_size=(5, 5), stride=(1, 1), padding=(2, 2))\n",
            "    (1): ReLU()\n",
            "    (2): MaxPool2d(kernel_size=2, stride=2, padding=0, dilation=1, ceil_mode=False)\n",
            "  )\n",
            "  (layer2): Sequential(\n",
            "    (0): Conv2d(32, 64, kernel_size=(5, 5), stride=(1, 1), padding=(2, 2))\n",
            "    (1): ReLU()\n",
            "    (2): MaxPool2d(kernel_size=2, stride=2, padding=0, dilation=1, ceil_mode=False)\n",
            "  )\n",
            "  (fc1): Sequential(\n",
            "    (0): Linear(in_features=3136, out_features=1000, bias=True)\n",
            "    (1): ReLU()\n",
            "  )\n",
            "  (fc2): Linear(in_features=1000, out_features=10, bias=True)\n",
            ")\n"
          ]
        }
      ],
      "source": [
        "class ConvNet(nn.Module):\n",
        "    def __init__(self):\n",
        "        super(ConvNet, self).__init__()\n",
        "        self.layer1 = nn.Sequential(\n",
        "            nn.Conv2d(1, 32, kernel_size=5, stride=1, padding=2),\n",
        "            nn.ReLU(),\n",
        "            nn.MaxPool2d(kernel_size=2, stride=2))\n",
        "        self.layer2 = nn.Sequential(\n",
        "            nn.Conv2d(32, 64, kernel_size=5, stride=1, padding=2),\n",
        "            nn.ReLU(),\n",
        "            nn.MaxPool2d(kernel_size=2, stride=2))\n",
        "        self.fc1 = nn.Sequential(\n",
        "            nn.Linear(7 * 7 * 64, 1000),\n",
        "            nn.ReLU())\n",
        "        self.fc2 = nn.Linear(1000, 10)\n",
        "\n",
        "    def forward(self, x):\n",
        "        out = self.layer1(x)\n",
        "        out = self.layer2(out)\n",
        "        out = out.reshape(out.size(0), -1)\n",
        "        out = self.fc1(out)\n",
        "        out = self.fc2(out)\n",
        "        return out\n",
        "\n",
        "# Instancia o Model()\n",
        "model = ConvNet()\n",
        "\n",
        "print(model)"
      ]
    },
    {
      "cell_type": "markdown",
      "metadata": {
        "id": "VaZAVe67F0fp"
      },
      "source": [
        "Quantos paramêtros temos?"
      ]
    },
    {
      "cell_type": "code",
      "execution_count": 6,
      "metadata": {
        "id": "MdDXlqpWF0fq",
        "outputId": "d5bb55b1-a4d3-4ceb-dcc4-2a17461c2c03",
        "colab": {
          "base_uri": "https://localhost:8080/"
        }
      },
      "outputs": [
        {
          "output_type": "execute_result",
          "data": {
            "text/plain": [
              "3199106"
            ]
          },
          "metadata": {},
          "execution_count": 6
        }
      ],
      "source": [
        "def count_parameters(model):\n",
        "    return sum(p.numel() for p in model.parameters() if p.requires_grad)\n",
        "\n",
        "count_parameters(model)"
      ]
    },
    {
      "cell_type": "markdown",
      "metadata": {
        "id": "Z7l49SwXF0fr"
      },
      "source": [
        "## Como treinar sua rede neural no PyTorch\n",
        "\n",
        "Uma vez especificado e instanciado o modelo, podemos manipulá-lo de maneira dinâmica.\n",
        "Escolhemos a função custo (`loss_fn`) como `nn.CrossEntropyLoss()` e também a taxa de aprendizagem $\\eta$ em `1e-6` e a quantidade de épocas a serem treinadas (`epochs`):\n",
        "\n",
        "```python\n",
        "model = Sua_rede_neural()\n",
        "loss_fn = nn.CrossEntropyLoss()\n",
        "learning_rate = 1e-6\n",
        "epochs = 100\n",
        "\n",
        "# Instânciar o Otimizador Adam\n",
        "optimizer = torch.optim.Adam(model.parameters(), lr=learning_rate)\n",
        "\n",
        "# For-loop de treino\n",
        "for epoch in range(epochs): # para cada época\n",
        "    for (images, labels) in train_loader: # para cada batch\n",
        "        # Gera a propagação (feed forward)\n",
        "        outputs = model(images)\n",
        "        \n",
        "        # Calcula a função-custo\n",
        "        loss = loss_fn(outputs, labels)\n",
        "        \n",
        "        # Retro-propagação (Backprop) e a otimização com Adam\n",
        "        optimizer.zero_grad()\n",
        "        loss.backward()\n",
        "        optimizer.step()\n",
        "```"
      ]
    },
    {
      "cell_type": "code",
      "execution_count": 7,
      "metadata": {
        "id": "--9sfgfmF0fs"
      },
      "outputs": [],
      "source": [
        "from torch.optim import Adam\n",
        "\n",
        "# Hiperparâmetros\n",
        "loss_fn = nn.CrossEntropyLoss()\n",
        "learning_rate = 0.001\n",
        "epochs = 6\n",
        "\n",
        "# Instânciar o Otimizador Adam\n",
        "optimizer = Adam(model.parameters(), lr=learning_rate)"
      ]
    },
    {
      "cell_type": "markdown",
      "metadata": {
        "id": "raZ5aZCmF0f6"
      },
      "source": [
        "### OBSERVAÇÃO\n",
        "\n",
        "Esta rede neural possui muitos parâmetros.\n",
        "Aproximadamente 3 milhões e 200 mil paramêtros!\n",
        "Não tente rodar isso sem ser usando uma GPU!\n",
        "O Google Colab te dá uma GPU de graça.\n",
        "Clique no botão abaixo para abrir este notebook no Google Colab.\n",
        "Não esqueça de trocar sua `Runtime` de `None` para `GPU`.\n",
        "\n",
        "[![Open In Colab](https://colab.research.google.com/assets/colab-badge.svg)](https://colab.research.google.com/github/storopoli/ciencia-de-dados/blob/main/notebooks/Aula_19_Redes_Neurais_Convolucionais_com_PyTorch.ipynb)"
      ]
    },
    {
      "cell_type": "code",
      "execution_count": 8,
      "metadata": {
        "id": "VekvbuGYF0f6",
        "outputId": "6cab7e5b-3dec-4152-ac80-af745a8846b8",
        "colab": {
          "base_uri": "https://localhost:8080/"
        }
      },
      "outputs": [
        {
          "output_type": "stream",
          "name": "stdout",
          "text": [
            "True\n"
          ]
        }
      ],
      "source": [
        "# Isto tem que retornar True\n",
        "import torch\n",
        "is_cuda_avaliable = torch.cuda.is_available()\n",
        "print(is_cuda_avaliable)"
      ]
    },
    {
      "cell_type": "code",
      "execution_count": 9,
      "metadata": {
        "id": "6PeL9oagF0f8",
        "outputId": "ad9ec41f-2fa5-42f4-94fa-5d35a628c812",
        "colab": {
          "base_uri": "https://localhost:8080/",
          "height": 36
        }
      },
      "outputs": [
        {
          "output_type": "execute_result",
          "data": {
            "text/plain": [
              "'Tesla T4'"
            ],
            "application/vnd.google.colaboratory.intrinsic+json": {
              "type": "string"
            }
          },
          "metadata": {},
          "execution_count": 9
        }
      ],
      "source": [
        "# Sua GPU\n",
        "torch.cuda.get_device_name()"
      ]
    },
    {
      "cell_type": "code",
      "source": [
        "# EX:1\n",
        "# Determina onde o dado será processado\n",
        "device = torch.device('cuda:0' if is_cuda_avaliable else 'cpu')"
      ],
      "metadata": {
        "id": "da0TXa3buw1a"
      },
      "execution_count": 10,
      "outputs": []
    },
    {
      "cell_type": "code",
      "execution_count": 13,
      "metadata": {
        "id": "45km0H32F0f9",
        "outputId": "510a34fd-3581-4b6d-e17a-8d93e0eb9bcb",
        "colab": {
          "base_uri": "https://localhost:8080/"
        }
      },
      "outputs": [
        {
          "output_type": "stream",
          "name": "stdout",
          "text": [
            "Época 1: acc: 97.92, loss: 0.1044\n",
            "Época 2: acc: 97.56, loss: 0.1162\n",
            "Época 3: acc: 97.63, loss: 0.1157\n",
            "Época 4: acc: 98.25, loss: 0.0915\n",
            "Época 5: acc: 98.16, loss: 0.0966\n",
            "Época 6: acc: 97.49, loss: 0.1483\n"
          ]
        }
      ],
      "source": [
        "# Treinar o Modelo\n",
        "total_step = len(train_loader) # quantos batches eu tenho\n",
        "\n",
        "# Listas vazias\n",
        "train_loss_list = []\n",
        "valid_acc_list = []\n",
        "valid_loss_list = []\n",
        "\n",
        "# EX:1\n",
        "# Onde o modelo será processado\n",
        "model.to(device)\n",
        "\n",
        "for epoch in range(epochs):\n",
        "    model.train()\n",
        "\n",
        "    for i, (images, labels) in enumerate(train_loader):\n",
        "\n",
        "        # EX:1\n",
        "        # Onde serão processados\n",
        "        images, labels = images.to(device), labels.to(device)\n",
        "\n",
        "        # Gera a propagação (feed forward)\n",
        "        outputs = model(images)\n",
        "\n",
        "        # Calcula a função-custo\n",
        "        loss = loss_fn(outputs, labels)\n",
        "        train_loss_list.append(loss.item())\n",
        "\n",
        "        # Retro-propagação (Backprop) e a otimização com Adam\n",
        "        optimizer.zero_grad()\n",
        "        loss.backward()\n",
        "        optimizer.step()\n",
        "\n",
        "    # Validação\n",
        "    model.eval()\n",
        "    running_loss = 0.0\n",
        "    total = 0\n",
        "    correct = 0\n",
        "    with torch.no_grad():\n",
        "      for images, labels in validation_loader:\n",
        "        images, labels = images.to(device), labels.to(device)\n",
        "\n",
        "        output = model(images)\n",
        "        loss = loss_fn(output, labels)\n",
        "\n",
        "        # loss\n",
        "        running_loss += loss.item() *  images.shape[0]\n",
        "\n",
        "        # acurácia\n",
        "        _, predicted = torch.max(output, 1)\n",
        "        correct += (predicted == labels).sum().item()\n",
        "        total += labels.shape[0]\n",
        "\n",
        "    valid_loss = running_loss / len(validation_loader.dataset)\n",
        "    valid_acc = 100 * correct / total\n",
        "\n",
        "    valid_loss_list.append(valid_loss)\n",
        "    valid_acc_list.append(valid_acc)\n",
        "\n",
        "    print(f\"Época {epoch + 1}: acc: {valid_acc:.2f}, loss: {valid_loss:.4f}\")\n",
        "\n"
      ]
    },
    {
      "cell_type": "markdown",
      "metadata": {
        "id": "5zNP9T66F0f-"
      },
      "source": [
        "### Acurácia do Modelo\n",
        "\n",
        "Usar o comando `model.eval()`\n",
        "\n",
        "Para a métrica acurácia, retorna um score de acurácia `float` entre $0$ e $1$"
      ]
    },
    {
      "cell_type": "code",
      "execution_count": null,
      "metadata": {
        "id": "gN_PeAkHF0f_"
      },
      "outputs": [],
      "source": [
        "model.eval() # coloca o modelo em modo de avaliação (sem calcular gradientes)\n",
        "\n",
        "with torch.no_grad():\n",
        "    correct = 0\n",
        "    total = 0\n",
        "    for images, labels in test_loader:\n",
        "        # Feed-forward com as imagens de teste\n",
        "        outputs = model(images)\n",
        "\n",
        "        # gera predições usando a função max()\n",
        "        _, predicted = torch.max(outputs.data, 1)\n",
        "\n",
        "        # Acumula total e corretas\n",
        "        total += labels.size(0)\n",
        "        correct += (predicted == labels).sum().item()\n",
        "\n",
        "    print(f\"Acurácia do Modelo em 10k imagens de teste: {round((correct / total) * 100, 3)}\")"
      ]
    }
  ],
  "metadata": {
    "celltoolbar": "Slideshow",
    "kernelspec": {
      "display_name": "Python 3",
      "name": "python3"
    },
    "language_info": {
      "codemirror_mode": {
        "name": "ipython",
        "version": 3
      },
      "file_extension": ".py",
      "mimetype": "text/x-python",
      "name": "python",
      "nbconvert_exporter": "python",
      "pygments_lexer": "ipython3",
      "version": "3.10.4"
    },
    "rise": {
      "autolaunch": true,
      "enable_chalkboard": true,
      "progress": true,
      "scroll": true,
      "slideNumber": true,
      "theme": "black"
    },
    "colab": {
      "provenance": [],
      "gpuType": "T4"
    },
    "accelerator": "GPU"
  },
  "nbformat": 4,
  "nbformat_minor": 0
}