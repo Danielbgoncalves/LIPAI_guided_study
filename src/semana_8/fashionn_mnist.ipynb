{
  "cells": [
    {
      "cell_type": "code",
      "execution_count": 1,
      "metadata": {
        "colab": {
          "base_uri": "https://localhost:8080/"
        },
        "id": "vI_-cBBiQP8u",
        "outputId": "449ccb56-b87b-46df-a033-845a952fbbd8"
      },
      "outputs": [
        {
          "name": "stderr",
          "output_type": "stream",
          "text": [
            "100%|██████████| 26.4M/26.4M [00:02<00:00, 11.0MB/s]\n",
            "100%|██████████| 29.5k/29.5k [00:00<00:00, 171kB/s]\n",
            "100%|██████████| 4.42M/4.42M [00:01<00:00, 3.22MB/s]\n",
            "100%|██████████| 5.15k/5.15k [00:00<00:00, 14.4MB/s]\n"
          ]
        }
      ],
      "source": [
        "import torchvision\n",
        "from torchvision import transforms\n",
        "\n",
        "rootpath = '/home/storopoli/Downloads'\n",
        "\n",
        "trans = transforms.Compose([transforms.ToTensor(), transforms.Normalize((0.1307,), (0.3081,))])\n",
        "\n",
        "full_train_dataset = torchvision.datasets.FashionMNIST(root=rootpath, train=True, transform=trans, download=True)\n",
        "test_dataset = torchvision.datasets.FashionMNIST(root=rootpath, train=False, transform=trans)"
      ]
    },
    {
      "cell_type": "code",
      "execution_count": 2,
      "metadata": {
        "id": "6KyjCAbSSdxf"
      },
      "outputs": [],
      "source": [
        "from torch.utils.data import random_split\n",
        "\n",
        "n = len(full_train_dataset)\n",
        "n_train = int(n * 0.83)\n",
        "n_valid = n - n_train\n",
        "\n",
        "train_dataset, valid_dataset = random_split(full_train_dataset, [n_train, n_valid])"
      ]
    },
    {
      "cell_type": "code",
      "execution_count": 11,
      "metadata": {
        "colab": {
          "base_uri": "https://localhost:8080/"
        },
        "id": "CMemhnxQSegt",
        "outputId": "9620d8c7-3b14-405b-9ec9-8d3853957565"
      },
      "outputs": [
        {
          "data": {
            "text/plain": [
              "10200"
            ]
          },
          "execution_count": 11,
          "metadata": {},
          "output_type": "execute_result"
        }
      ],
      "source": [
        "len(valid_dataset)"
      ]
    },
    {
      "cell_type": "code",
      "execution_count": 18,
      "metadata": {
        "id": "7FDrvWFRSW-x"
      },
      "outputs": [],
      "source": [
        "from torch.utils.data import DataLoader\n",
        "\n",
        "batch_size=32\n",
        "\n",
        "train_loader = DataLoader(dataset=train_dataset, batch_size=batch_size, shuffle=True)\n",
        "valid_loader = DataLoader(dataset=valid_dataset, batch_size=batch_size, shuffle=False)\n",
        "test_loader = DataLoader(dataset=test_dataset, batch_size=batch_size, shuffle=False)"
      ]
    },
    {
      "cell_type": "code",
      "execution_count": 5,
      "metadata": {
        "id": "0z8uayUEWUCS"
      },
      "outputs": [],
      "source": [
        "import torch.nn as nn"
      ]
    },
    {
      "cell_type": "code",
      "execution_count": 24,
      "metadata": {
        "colab": {
          "base_uri": "https://localhost:8080/"
        },
        "id": "IAIkV_snWWiC",
        "outputId": "fc3c876e-7ef2-4d5e-c150-7d8ba2983264"
      },
      "outputs": [
        {
          "name": "stdout",
          "output_type": "stream",
          "text": [
            "ConvNet(\n",
            "  (layer1): Sequential(\n",
            "    (0): Conv2d(1, 32, kernel_size=(5, 5), stride=(1, 1), padding=(2, 2))\n",
            "    (1): BatchNorm2d(32, eps=1e-05, momentum=0.1, affine=True, track_running_stats=True)\n",
            "    (2): ReLU()\n",
            "    (3): MaxPool2d(kernel_size=2, stride=2, padding=0, dilation=1, ceil_mode=False)\n",
            "  )\n",
            "  (layer2): Sequential(\n",
            "    (0): Conv2d(32, 64, kernel_size=(5, 5), stride=(1, 1), padding=(2, 2))\n",
            "    (1): BatchNorm2d(64, eps=1e-05, momentum=0.1, affine=True, track_running_stats=True)\n",
            "    (2): ReLU()\n",
            "    (3): MaxPool2d(kernel_size=2, stride=2, padding=0, dilation=1, ceil_mode=False)\n",
            "  )\n",
            "  (fc1): Sequential(\n",
            "    (0): Linear(in_features=3136, out_features=1000, bias=True)\n",
            "    (1): BatchNorm1d(1000, eps=1e-05, momentum=0.1, affine=True, track_running_stats=True)\n",
            "    (2): ReLU()\n",
            "  )\n",
            "  (fc2): Linear(in_features=1000, out_features=10, bias=True)\n",
            ")\n"
          ]
        }
      ],
      "source": [
        "class ConvNet(nn.Module):\n",
        "  def __init__(self):\n",
        "        super(ConvNet, self).__init__()\n",
        "        self.layer1 = nn.Sequential(\n",
        "            nn.Conv2d(1, 32, kernel_size=5, stride=1, padding=2),\n",
        "            nn.BatchNorm2d(32), # adicionei isso\n",
        "            nn.ReLU(),\n",
        "            nn.MaxPool2d(kernel_size=2, stride=2))\n",
        "        self.layer2 = nn.Sequential(\n",
        "            nn.Conv2d(32, 64, kernel_size=5, stride=1, padding=2),\n",
        "            nn.BatchNorm2d(64), # adicionei isso\n",
        "            nn.ReLU(),\n",
        "            nn.MaxPool2d(kernel_size=2, stride=2))\n",
        "        self.fc1 = nn.Sequential(\n",
        "            nn.Linear(7 * 7 * 64, 1000),\n",
        "            nn.BatchNorm1d(1_000), # adicionei também\n",
        "            nn.ReLU(),\n",
        "            #nn.Dropout(0.2) # aqui também\n",
        "        )\n",
        "        self.fc2 = nn.Linear(1000, 10)\n",
        "\n",
        "  def forward(self, x):\n",
        "      out = self.layer1(x)\n",
        "      out = self.layer2(out)\n",
        "      out = out.reshape(out.size(0), -1)\n",
        "      out = self.fc1(out)\n",
        "      out = self.fc2(out)\n",
        "      return out\n",
        "\n",
        "# Instancia o Model()\n",
        "model = ConvNet()\n",
        "\n",
        "print(model)"
      ]
    },
    {
      "cell_type": "code",
      "execution_count": 25,
      "metadata": {
        "id": "Cv1JEx4JZDU3"
      },
      "outputs": [],
      "source": [
        "from torch.optim import SGD\n",
        "from torch.optim.lr_scheduler import OneCycleLR\n",
        "\n",
        "loss_fn = nn.CrossEntropyLoss()\n",
        "learning_rate = 0.01\n",
        "epochs = 10\n",
        "\n",
        "optimizer = SGD(model.parameters(), lr=learning_rate, momentum=0.9, nesterov=True)\n",
        "\n",
        "scheduler = OneCycleLR(\n",
        "    optimizer,\n",
        "    max_lr=learning_rate,\n",
        "    epochs=epochs,\n",
        "    steps_per_epoch=len(train_loader)\n",
        ")"
      ]
    },
    {
      "cell_type": "code",
      "execution_count": null,
      "metadata": {
        "colab": {
          "base_uri": "https://localhost:8080/"
        },
        "id": "MwJHh7-3Z23L",
        "outputId": "d5654ff4-5735-4464-867d-db7b009b34eb"
      },
      "outputs": [
        {
          "name": "stdout",
          "output_type": "stream",
          "text": [
            "True\n"
          ]
        }
      ],
      "source": [
        "import torch\n",
        "\n",
        "cuda_avaliabel = torch.cuda.is_available()\n",
        "print(cuda_avaliabel)"
      ]
    },
    {
      "cell_type": "code",
      "execution_count": 16,
      "metadata": {
        "id": "ZgToJSJ9aXOA"
      },
      "outputs": [],
      "source": [
        "device = torch.device('cuda:0' if cuda_avaliabel else 'cpu')"
      ]
    },
    {
      "cell_type": "code",
      "execution_count": 26,
      "metadata": {
        "colab": {
          "base_uri": "https://localhost:8080/"
        },
        "id": "Ir-Y5wy-ahry",
        "outputId": "e160da9f-f821-4859-c523-b698f61cde34"
      },
      "outputs": [
        {
          "name": "stdout",
          "output_type": "stream",
          "text": [
            "Época 1: acc: 85.66, loss: 2.3785\n",
            "Época 2: acc: 88.92, loss: 1.7907\n",
            "Época 3: acc: 91.26, loss: 1.3978\n",
            "Época 4: acc: 92.88, loss: 1.1537\n",
            "Época 5: acc: 94.15, loss: 0.9457\n",
            "Época 6: acc: 95.56, loss: 0.7304\n",
            "Época 7: acc: 96.56, loss: 0.5906\n",
            "Época 8: acc: 97.70, loss: 0.4273\n",
            "Época 9: acc: 98.45, loss: 0.3201\n",
            "Época 10: acc: 98.75, loss: 0.2822\n"
          ]
        }
      ],
      "source": [
        "train_loss_list = []\n",
        "train_acc_list = []\n",
        "valid_acc_list = []\n",
        "valid_loss_list = []\n",
        "\n",
        "model.to(device)\n",
        "\n",
        "for epoch in range(epochs):\n",
        "  model.train()\n",
        "\n",
        "  run_loss = 0.0\n",
        "  total = 0\n",
        "  correct = 0\n",
        "\n",
        "  for i, (images, labels) in enumerate(train_loader):\n",
        "\n",
        "        images, labels = images.to(device), labels.to(device)\n",
        "\n",
        "        outputs = model(images)\n",
        "\n",
        "        loss = loss_fn(outputs, labels)\n",
        "        run_loss += loss.item() * labels.shape[0]\n",
        "\n",
        "        optimizer.zero_grad()\n",
        "        loss.backward()\n",
        "        optimizer.step()\n",
        "        scheduler.step()\n",
        "\n",
        "        # Acuracia no treino\n",
        "        total += labels.size(0)\n",
        "        _, predicted = torch.max(outputs.data, 1)\n",
        "        correct += (predicted == labels).sum().item()\n",
        "\n",
        "    # Médias do treinamento\n",
        "  train_acc_list.append(100 * correct / total)\n",
        "  train_loss_list.append(run_loss / len(train_loader.dataset))\n",
        "\n",
        "  # Validação\n",
        "  model.eval()\n",
        "  val_running_loss = 0.0\n",
        "  val_total = 0\n",
        "  val_correct = 0\n",
        "  with torch.no_grad():\n",
        "    for images, labels in valid_loader:\n",
        "      images, labels = images.to(device), labels.to(device)\n",
        "\n",
        "      output = model(images)\n",
        "      loss = loss_fn(output, labels)\n",
        "\n",
        "      # loss\n",
        "      run_loss += loss.item() * images.shape[0]\n",
        "\n",
        "      # acurácia\n",
        "      _, predicted = torch.max(output, 1)\n",
        "      correct += (predicted == labels).sum().item()\n",
        "      total += labels.shape[0]\n",
        "\n",
        "    valid_loss = run_loss / len(valid_loader.dataset)\n",
        "    valid_acc = 100 * correct / total\n",
        "\n",
        "    valid_loss_list.append(valid_loss)\n",
        "    valid_acc_list.append(valid_acc)\n",
        "\n",
        "    print(f\"Época {epoch + 1}: acc: {valid_acc:.2f}, loss: {valid_loss:.4f}\")\n"
      ]
    },
    {
      "cell_type": "code",
      "execution_count": 27,
      "metadata": {
        "colab": {
          "base_uri": "https://localhost:8080/",
          "height": 600
        },
        "id": "EYz--wffbdg0",
        "outputId": "04339896-ceb1-4b67-d00b-514c4fd49aac"
      },
      "outputs": [
        {
          "data": {
            "text/plain": [
              "Text(0.5, 1.0, 'Acurácia (acc)')"
            ]
          },
          "execution_count": 27,
          "metadata": {},
          "output_type": "execute_result"
        },
        {
          "data": {
            "image/png": "[encoded data removed]",
            "text/plain": [
              "<Figure size 1200x600 with 2 Axes>"
            ]
          },
          "metadata": {},
          "output_type": "display_data"
        }
      ],
      "source": [
        "#EX: 3\n",
        "# Plot loss e acurácia treino vc validação\n",
        "from matplotlib import pyplot as plt\n",
        "\n",
        "e = list(range(1, epochs + 1))\n",
        "\n",
        "plt.figure('LOSS e ACC em treino e validação', figsize=(12,6))\n",
        "plt.suptitle('LOSS e ACC em treino e validação')\n",
        "\n",
        "# LOSS\n",
        "axis1 = plt.subplot(1,2,1)\n",
        "plt.plot(e, train_loss_list)\n",
        "plt.plot(e, valid_loss_list)\n",
        "plt.legend(['train', 'valid'])\n",
        "axis1.set_title('Perda (loss)')\n",
        "\n",
        "# ACC\n",
        "axis2 =plt.subplot(1,2,2)\n",
        "plt.plot(e, train_acc_list)\n",
        "plt.plot(e, valid_acc_list)\n",
        "plt.legend(['train', 'valid'])\n",
        "axis2.set_title('Acurácia (acc)')"
      ]
    },
    {
      "cell_type": "code",
      "execution_count": 28,
      "metadata": {
        "colab": {
          "base_uri": "https://localhost:8080/"
        },
        "id": "QyIOozfLbg7a",
        "outputId": "d2b0535f-85fd-40d2-b876-72ab0c68d75e"
      },
      "outputs": [
        {
          "name": "stdout",
          "output_type": "stream",
          "text": [
            "Acurácia do Modelo em 10k imagens de teste: 92.87\n"
          ]
        }
      ],
      "source": [
        "model.eval() # coloca o modelo em modo de avaliação (sem calcular gradientes)\n",
        "\n",
        "model.to(device)\n",
        "\n",
        "with torch.no_grad():\n",
        "    correct = 0\n",
        "    total = 0\n",
        "    for images, labels in test_loader:\n",
        "        # Feed-forward com as imagens de teste\n",
        "        images, labels = images.to(device), labels.to(device)\n",
        "        outputs = model(images)\n",
        "\n",
        "        # gera predições usando a função max()\n",
        "        _, predicted = torch.max(outputs.data, 1)\n",
        "\n",
        "        # Acumula total e corretas\n",
        "        total += labels.size(0)\n",
        "        correct += (predicted == labels).sum().item()\n",
        "\n",
        "    print(f\"Acurácia do Modelo em 10k imagens de teste: {round((correct / total) * 100, 3)}\")"
      ]
    }
  ],
  "metadata": {
    "accelerator": "GPU",
    "colab": {
      "gpuType": "T4",
      "provenance": []
    },
    "kernelspec": {
      "display_name": "Python 3",
      "name": "python3"
    },
    "language_info": {
      "name": "python"
    }
  },
  "nbformat": 4,
  "nbformat_minor": 0
}
