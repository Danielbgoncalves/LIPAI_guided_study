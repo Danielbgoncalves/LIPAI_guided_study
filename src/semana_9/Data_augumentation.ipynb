{
  "cells": [
    {
      "cell_type": "markdown",
      "metadata": {
        "id": "cBKiLTxCuFCe"
      },
      "source": [
        "[![Binder](https://mybinder.org/badge_logo.svg)](https://mybinder.org/v2/gh/storopoli/ciencia-de-dados/main?filepath=notebooks%2FAula_19_Redes_Neurais_Convolucionais_com_PyTorch.ipynb)\n",
        "<br>\n",
        "[![Open In Colab](https://colab.research.google.com/assets/colab-badge.svg)](https://colab.research.google.com/github/storopoli/ciencia-de-dados/blob/main/notebooks/Aula_19_Redes_Neurais_Convolucionais_com_PyTorch.ipynb)"
      ]
    },
    {
      "cell_type": "markdown",
      "metadata": {
        "id": "7Tjo-TdcuFCo"
      },
      "source": [
        "# Redes Neurais Convolucionais com PyTorch\n",
        "\n",
        "**Objetivos**: Aprender Redes Neurais Convolucionais (_Convolution Neural Networks_ - CNN) usando a biblioteca `PyTorch`.\n",
        "\n",
        "> Observação: Algumas imagens foram adaptadas de [Adventures in Machine Learning](https://adventuresinmachinelearning.com/convolutional-neural-networks-tutorial-in-pytorch/) (Licença CC-BY-SA)."
      ]
    },
    {
      "cell_type": "markdown",
      "metadata": {
        "id": "GdUfy_MAuFCr"
      },
      "source": [
        "## PyTorch\n",
        "\n",
        "[**PyTorch**](https://www.pytorch.org/) é uma biblioteca de código aberto para aprendizado de máquina aplicável a uma ampla variedade de tarefas. Foi criada pelo **Facebook** em 2016 e é a principal biblioteca para criação e treinamento de redes neurais artificiais. A API toda é escrita em Python mas é executada em C++ na CPU ou em CUDA/ROCM na GPU.\n",
        "\n",
        "No momento que eu escrevo esse tutorial (Abril de 2021), PyTorch está superando o TensorFlow (Google) em desempenho e adoção de uso. Isso acontece tanto na [academia](http://horace.io/pytorch-vs-tensorflow/) (mensurado pela adoção de artigos científicos nos principais encontros científicos de Aprendizagem Profunda e Aprendizagem de Máquina) quanto na [indústria](https://www.infoworld.com/article/3597904/why-enterprises-are-turning-from-tensorflow-to-pytorch.html) (mensurado pela adoção de grandes e renomadas empresas de tecnologia).\n",
        "\n",
        "### Atualização (Junho 2022):\n",
        "\n",
        "TensorFlow está morto, Vida Longa ao PyTorch: [Google lost the battle for machine learning to Meta, insiders say. Now it's betting the future of its own products on a new internal AI project.](https://www.businessinsider.com/facebook-pytorch-beat-google-tensorflow-jax-meta-ai-2022-6).\n",
        "\n",
        "> Now, under the shadow of PyTorch, Google has been quietly building out a machine learning framework, called JAX (at one point an acronym for \"Just After eXecution,\" but officially no longer stands for anything), that many see as the successor to TensorFlow.\n",
        "\n",
        "Meus comentários: JAX é mais um backend de _autodiff_ do que uma biblioteca de redes neurais.\n",
        "Ou seja tem um uso muito mais amplo que PyTorch.\n",
        "Por exemplo, como um amostrador Monte Carlo de correntes ou cadeias Markov (_Markov Chain Monte Carlo_ - MCMC)."
      ]
    },
    {
      "cell_type": "markdown",
      "metadata": {
        "id": "MZXaOgUuuFCt"
      },
      "source": [
        "## Imagens e Filtros\n",
        "\n",
        "Todo dado estruturado e não-esturutado é representado como matrizes no computador.\n",
        "Veja o caso de imagens.\n",
        "Elas são literalmente matrizes multidimensionais.\n",
        "\n",
        "* Uma imagem colorida é uma Array de dimensão $X \\times Y \\times 3$:\n",
        "    * $X$ = quantidade de pixels no eixo horizontal\n",
        "    * $Y$ = quantidade de pixels no eixo vertical\n",
        "    * $3$ = são 3 canais de cores - **R**ed, **G**reen e **B**lue"
      ]
    },
    {
      "cell_type": "markdown",
      "metadata": {
        "id": "VDAEp9lDuFCu"
      },
      "source": [
        "<img src=\"https://github.com/storopoli/ciencia-de-dados/blob/main/notebooks/images/images_as_matrix.png?raw=1\" alt=\"Row vs Cols\" style=\"width: 500px;\"/>"
      ]
    },
    {
      "cell_type": "markdown",
      "metadata": {
        "id": "ZwVNTwq-uFCv"
      },
      "source": [
        "#### Convoluções\n",
        "\n",
        "Em matemática **[convolução](https://pt.wikipedia.org/wiki/Convolu%C3%A7%C3%A3o) é um operador linear** que, a partir de **duas funções dadas**, **resulta numa terceira que mede a soma do produto dessas funções ao longo da região** subentendida pela superposição delas em função do deslocamento existente entre elas.\n",
        "\n",
        "A notação para a convolução de $f$ e $g$ é $f*g$. Ela é definida como a integral do produto de uma das funções por uma cópia deslocada e invertida da outra; a função resultante $h$ depende do valor do deslocamento. Se $x$ for a variável independente e $u$, o deslocamento, a fórmula pode ser escrita como:\n",
        "\n",
        "$$(f * g) (x) = h(x) = \\int_{-\\infty}^{\\infty} f(u) \\cdot g(x-u) du$$\n",
        "\n",
        "Existe ainda uma definição de **convolução para funções de domínio discreto**, dada por\n",
        "\n",
        "$$(f * g) (k) = h(k)= \\sum_{j=0}^{k} f(j) \\cdot g(k-j)$$"
      ]
    },
    {
      "cell_type": "markdown",
      "metadata": {
        "id": "NaUl5AEMuFCy"
      },
      "source": [
        "<img src=\"https://github.com/storopoli/ciencia-de-dados/blob/main/notebooks/images/convolution.gif?raw=1\" alt=\"Row vs Cols\" style=\"width: 400px;\"/>"
      ]
    },
    {
      "cell_type": "markdown",
      "metadata": {
        "id": "QsMtOd49uFCz"
      },
      "source": [
        "Inclusive, convoluções, onde a \"máquina\" aprende os filtros (os números que vão dentro da matriz), é a base das redes neurais que detectam objetos!\n",
        "\n",
        "<img src=\"https://github.com/storopoli/ciencia-de-dados/blob/main/notebooks/images/deeplearning_convolutions.gif?raw=1\" alt=\"Deep Learning Convolutions\" style=\"width: 600px;\"/>"
      ]
    },
    {
      "cell_type": "markdown",
      "metadata": {
        "tags": [],
        "id": "gWPf0oppuFC1"
      },
      "source": [
        "## O que é uma Rede Neural Artificial?\n",
        "\n",
        "Redes neurais artificiais (RNAs) são modelos computacionais inspirados pelo sistema nervoso central (em particular o cérebro) que são capazes de realizar o aprendizado de máquina bem como o reconhecimento de padrões. Redes neurais artificiais geralmente são apresentadas como sistemas de \"neurônios interconectados, que podem computar valores de entradas\", simulando o comportamento de redes neurais biológicas."
      ]
    },
    {
      "cell_type": "markdown",
      "metadata": {
        "id": "FsWos7FhuFC3"
      },
      "source": [
        "<img src=\"https://github.com/storopoli/ciencia-de-dados/blob/main/notebooks/images/redes_neurais.jpeg?raw=1\" alt=\"redes neurais\" style=\"width: 500px;\"/>"
      ]
    },
    {
      "cell_type": "markdown",
      "metadata": {
        "id": "W7PJOb1-uFC4"
      },
      "source": [
        "## Como a rede neural aprende?\n",
        "\n",
        "Em cada neurônio há uma função de ativação (*activation function*) que processa uma combinação linear entre _inputs_ e pesos sinápticos, gerando assim um sinal de saída.\n",
        "\n",
        "A informação flui da *input layer* para as *hidden layers* e por fim para a *output layer*. Nesse fluxo os inputs de dados da *input layer* são alimentados para os neurônios das *hidden layers* que por fim alimentam o neurônio final da *output layer*.\n",
        "\n",
        "A primeira passada de informação (propagação) pela rede é geralmente feita com parâmetros aleatórios para as funções de ativação dos neurônios.\n",
        "\n",
        "Ao realizar a propagação, chamada de *feed forward*, temos sinais de saídas nos neurônios da output layer.\n",
        "\n",
        "No fim da propagação, a função custo (uma métrica de erro) é calculada e o modelo então ajusta os parâmetros dos neurônios na direção de um menor custo (por meio do gradiente - derivada multivariada).\n",
        "\n",
        "Assim uma nova propagação é gerada e a numa nova função custo e calculada. Assim como é realizado a atualização dos parâmetros dos neurônios.\n",
        "\n",
        "O nome desse algoritmo é **Retro-propagação** (*Backpropagation*). E cada vez que ele é executado denomina-se como época (*epoch*). E quandos as épocas estabelecidas se encerram, a rede neural encerra o seu treinamento/aprendizagem."
      ]
    },
    {
      "cell_type": "markdown",
      "metadata": {
        "id": "adeqoitGuFC4"
      },
      "source": [
        "<img src=\"https://github.com/storopoli/ciencia-de-dados/blob/main/notebooks/images/backpropagation.gif?raw=1\" alt=\"backpropagation\" style=\"width: 500px;\"/>"
      ]
    },
    {
      "cell_type": "markdown",
      "metadata": {
        "id": "AED64Nm8uFC5"
      },
      "source": [
        "#### Por que Redes Neurais Convolucionais?\n",
        "As Redes Neurais Convolucionais têm a capacidade de **extrair automaticamente características dos padrões a serem aprendidos** (por meio das camadas de convolução), tarefa que necessariamente tem que ser implementada separadamente quando se emprega uma Rede Neural padrão (\"vanilla\", _**M**ulti**l**ayer **P**erceptron_ - MLP) ou um outro classificador convencional (por exemplo, _**S**upport **V**ector **M**achine_ - SVM)\n"
      ]
    },
    {
      "cell_type": "markdown",
      "metadata": {
        "id": "I-Rn3bK-uFC6"
      },
      "source": [
        "#### O que muda numa Rede Neural Convolucional?\n",
        "\n",
        "**Nada**.\n",
        "\n",
        "Apenas que a rede neural possui um maior número de parâmetros pois precisa aprender todos os parâmetros dos filtros e convoluções que ocorrem em algumas de suas camadas internas."
      ]
    },
    {
      "cell_type": "markdown",
      "metadata": {
        "id": "5dHakLwRuFC6"
      },
      "source": [
        "### Camadas Necessárias para Convolução\n",
        "\n",
        "As redes neurais convolucionais se distinguem de outras redes neurais por seu desempenho superior com dados de imagem, voz ou áudio. Elas têm três tipos principais de camadas, que são:\n",
        "\n",
        "* Camada Convolucional\n",
        "* Camada de _Pooling_\n",
        "* Camada de Neurônios Totalmente Conectados (também chamado de _Fully Connected_ ou _Dense_)\n"
      ]
    },
    {
      "cell_type": "markdown",
      "metadata": {
        "id": "H2jjXzg_uFC7"
      },
      "source": [
        "#### Camadas de Convolução (_Convolution Layers_)\n",
        "\n",
        "Isto é uma camada para uma \"janela\" ou \"filtro\" deslizante que passamos pela imagem.\n",
        "Essa \"janela\" aplica um certo peso aos neurônios (pixels) adjacentes de uma certa vizinhança de pixels.\n",
        "\n",
        "Filtro $2 \\times 2$ com todos os pesos igual a $0.5$:\n",
        "\n",
        "<img src=\"https://github.com/storopoli/ciencia-de-dados/blob/main/notebooks/images/moving-filter.webp?raw=1\" alt=\"filtro convolução 2x2\" style=\"width: 500px;\"/>"
      ]
    },
    {
      "cell_type": "markdown",
      "metadata": {
        "id": "_KVymmc0uFC7"
      },
      "source": [
        "$$\\begin{align}\n",
        " out_1 &= 0.5 in_1 + 0.5 in_2 + 0.5 in_6 + 0.5 in_7 \\\\\n",
        " &= 0.5 \\times 2.0 + 0.5 \\times 3.0 + 0.5 \\times 2.0 + 0.5 \\times 1.5  \\\\\n",
        " &= 4.25 \\\\\n",
        " out_2 &= 0.5 in_2 + 0.5 in_3 + 0.5 in_7 + 0.5 in_8 \\\\\n",
        " &= 0.5 \\times 3.0 + 0.5 \\times 0.0 + 0.5 \\times 1.5 + 0.5 \\times 0.5  \\\\\n",
        " &= 2.5 \\\\\n",
        " \\end{align}$$"
      ]
    },
    {
      "cell_type": "markdown",
      "metadata": {
        "id": "Ibv-PmBzuFC8"
      },
      "source": [
        "Na rede neural este filtro funciona assim quando compararmos com relação a camada anterior (_inputs_):\n",
        "\n",
        "<img src=\"https://github.com/storopoli/ciencia-de-dados/blob/main/notebooks/images/moving-filter-node-diagram.webp?raw=1\" alt=\"filtro convolução 2x2\" style=\"width: 300px;\"/>"
      ]
    },
    {
      "cell_type": "markdown",
      "metadata": {
        "id": "EosZxT-iuFC8"
      },
      "source": [
        "#### Camadas de _Pooling_\n",
        "\n",
        "Uma outra técnica de \"janela\" ou \"filtro\" deslizante, mas ao invés de aplicar pesos, aplica uma função estatística sobre os conteúdos da sua \"janela\".\n",
        "\n",
        "A função estatística mais comum é o máximo `max()`.\n",
        "Essa é chamada de _max pooling_.\n",
        "\n",
        "##### Duas vantagens:\n",
        "\n",
        "- Reduz o número de parâmetros do modelo por um processo chamado _down-sampling_\n",
        "- Faz com que a detecção de atributos seja mais robusta à mudanças na orientação do objeto e mudanças de escalas\n",
        "\n",
        "_Max pooling_ com _padding_:\n",
        "\n",
        "<img src=\"https://github.com/storopoli/ciencia-de-dados/blob/main/notebooks/images/max-pooling.webp?raw=1\" alt=\"Max Pooling\" style=\"width: 500px;\"/>"
      ]
    },
    {
      "cell_type": "markdown",
      "metadata": {
        "id": "PF2lWOIduFC9"
      },
      "source": [
        "#### Juntanto todas as camadas\n",
        "\n",
        "<img src=\"https://github.com/storopoli/ciencia-de-dados/blob/main/notebooks/images/typical_cnn.webp?raw=1\" alt=\"Rede Neural Convolucional Típica\" style=\"width: 500px;\"/>"
      ]
    },
    {
      "cell_type": "markdown",
      "metadata": {
        "id": "0wMHq-YGuFC9"
      },
      "source": [
        "### Estruturação dos módulos de PyTorch\n",
        "\n",
        "```python\n",
        "import torch\n",
        "```\n",
        "* [`torch.Tensor`](https://pytorch.org/docs/stable/tensors.html) - Tensores (arrays N-D)\n",
        "* [`torch.nn`](https://pytorch.org/docs/stable/nn.html) - Redes Neurais (_**N**eural **N**etworks_)\n",
        "* [`torch.optim`](https://pytorch.org/docs/stable/optim.html) - Otimização (_**Optim**ization_)\n",
        "* [`torch.data`](https://pytorch.org/docs/stable/data.html) - *Datasets* e Ferramentas de Streaming de Dados\n",
        "* [`torch.autograd`](https://pytorch.org/docs/stable/autograd.html) - Diferenciação Automática (_**Auto**matic Differentiation_)\n",
        "* [`torch.vision`](https://pytorch.org/docs/stable/torchvision/index.html) - Ferramentas de Manipulação de Imagens e Visão Computacional\n",
        "* [`torch.audio`](https://pytorch.org/audio/stable/index.html) - Ferramentas de Manipulação de Áudio\n",
        "* [`torch.jit`](https://pytorch.org/docs/stable/jit.html) - Compilação _**j**ust-**i**n-**t**ime_ de modelos PyTorch em binários\n"
      ]
    },
    {
      "cell_type": "markdown",
      "metadata": {
        "id": "nuVZW7KxuFC9"
      },
      "source": [
        "### `torch.Tensor`\n",
        "\n",
        "* `NumPy` - `np.ndarray`\n",
        "* `pandas` - `pd.Series` e `pd.DataFrame`\n",
        "* `PyTorch` - `torch.Tensor`"
      ]
    },
    {
      "cell_type": "markdown",
      "metadata": {
        "id": "AP_eNLAfuFC-"
      },
      "source": [
        "## Exemplo com o [MNIST](https://en.wikipedia.org/wiki/MNIST_database)\n",
        "\n",
        "O dataset **MNIST** (_**M**odified **N**ational **I**nstitute of **S**tandards and **T**echnology_) é um clássico de Deep Learning. São imagens preto e branco de dígitos de 0 a 9 de formato 28x28 pixels (784 pixels)\n",
        "\n",
        "Contém 60.000 imagens de treino e 10.000 de teste e é um padrão de benchmark de modelos (acho que \"foi\", não é tão usado assim mais)\n"
      ]
    },
    {
      "cell_type": "markdown",
      "metadata": {
        "id": "3I7UOeN_uFC-"
      },
      "source": [
        "<img src=\"https://github.com/storopoli/ciencia-de-dados/blob/main/notebooks/images/MNIST.png?raw=1\" alt=\"MNIST\" style=\"width: 500px;\"/>"
      ]
    },
    {
      "cell_type": "markdown",
      "metadata": {
        "id": "XHRyW0xFuFC_"
      },
      "source": [
        "O pacote `torchvision` do `PyTorch` tem integrado já o dataset MNIST:"
      ]
    },
    {
      "cell_type": "code",
      "execution_count": 29,
      "metadata": {
        "id": "zkYxssCyuFC_"
      },
      "outputs": [],
      "source": [
        "import torchvision\n",
        "from torchvision import transforms\n",
        "\n",
        "# MNIST dataset\n",
        "root_path = '/home/storopoli/Downloads' # mude isso no Colab se necessário\n",
        "\n",
        "# pipeline básica\n",
        "baseline_trans = transforms.Compose([\n",
        "      torchvision.transforms.RandomRotation(15),\n",
        "      transforms.ToTensor(),\n",
        "      transforms.Normalize((0.1307,), (0.3081,))\n",
        "    ])\n",
        "\n",
        "# com rotação e translação\n",
        "basic_trans = transforms.Compose([\n",
        "    transforms.RandomAffine(\n",
        "        degrees=15,\n",
        "        translate=(0.1, 0.1)\n",
        "    ),\n",
        "    transforms.ToTensor(),\n",
        "    transforms.Normalize((0.1307,), (0.3081,))\n",
        "])\n",
        "\n",
        "\n",
        "# Avançado\n",
        "trans_aumentado = transforms.Compose([\n",
        "      transforms.TrivialAugmentWide(),   # aplica uma augmentação aleatória\n",
        "    transforms.ToTensor(),\n",
        "    transforms.Normalize((0.1307,), (0.3081,)),\n",
        "    transforms.RandomErasing(p=0.5)    # apaga aleatoriamente regiões da imagem\n",
        "])\n",
        "\n",
        "trans_pipelines = [baseline_trans, basic_trans, trans_aumentado]\n"
      ]
    },
    {
      "cell_type": "code",
      "execution_count": 30,
      "metadata": {
        "id": "zSJegYUAuFDC",
        "outputId": "1523cb98-99c2-4273-96e2-328c3ccecc13",
        "colab": {
          "base_uri": "https://localhost:8080/"
        }
      },
      "outputs": [
        {
          "output_type": "execute_result",
          "data": {
            "text/plain": [
              "Dataset MNIST\n",
              "    Number of datapoints: 60000\n",
              "    Root location: /home/storopoli/Downloads\n",
              "    Split: Train\n",
              "    StandardTransform\n",
              "Transform: Compose(\n",
              "               TrivialAugmentWide(num_magnitude_bins=31, interpolation=InterpolationMode.NEAREST, fill=None)\n",
              "               ToTensor()\n",
              "               Normalize(mean=(0.1307,), std=(0.3081,))\n",
              "               RandomErasing(p=0.5, scale=(0.02, 0.33), ratio=(0.3, 3.3), value=0, inplace=False)\n",
              "           )"
            ]
          },
          "metadata": {},
          "execution_count": 30
        }
      ],
      "source": [
        "train_dataset"
      ]
    },
    {
      "cell_type": "code",
      "execution_count": 31,
      "metadata": {
        "id": "iIeDqB_IuFDF",
        "outputId": "df375bc6-2224-4930-ff20-d81e73685623",
        "colab": {
          "base_uri": "https://localhost:8080/"
        }
      },
      "outputs": [
        {
          "output_type": "execute_result",
          "data": {
            "text/plain": [
              "Dataset MNIST\n",
              "    Number of datapoints: 10000\n",
              "    Root location: /home/storopoli/Downloads\n",
              "    Split: Test\n",
              "    StandardTransform\n",
              "Transform: Compose(\n",
              "               TrivialAugmentWide(num_magnitude_bins=31, interpolation=InterpolationMode.NEAREST, fill=None)\n",
              "               ToTensor()\n",
              "               Normalize(mean=(0.1307,), std=(0.3081,))\n",
              "               RandomErasing(p=0.5, scale=(0.02, 0.33), ratio=(0.3, 3.3), value=0, inplace=False)\n",
              "           )"
            ]
          },
          "metadata": {},
          "execution_count": 31
        }
      ],
      "source": [
        "test_dataset"
      ]
    },
    {
      "cell_type": "markdown",
      "metadata": {
        "id": "4RkseOPbuFDG"
      },
      "source": [
        "Para controlar como que os dados são inseridos no modelo e, logo, o Batch Size é preciso implementar um [`torch.utils.data.DataLoader()`](https://pytorch.org/docs/stable/data.html#torch.utils.data.DataLoader).\n",
        "\n",
        "Argumentos do `DataLoader()`:\n",
        "\n",
        "* **`dataset`**: um `Dataset` PyTorch\n",
        "    * tem [vários tipos](https://pytorch.org/docs/stable/data.html)\n",
        "    * no nosso exemplo vou usar um simples [`TensorDataset`](https://pytorch.org/docs/stable/_modules/torch/utils/data/dataset.html#TensorDataset) que é um wrapper de `np.ndarray` e `pd.Series` para `torch.Tensor`)\n",
        "* **batch_size**: `int` - tamanho do Batch Size, padrão é 1\n",
        "* **shuffle**: `bool` - se vai embaralhar os dados antes de enviar em batches ao modelo, padrão é `False`. Recomendo usar `shuffle=True`"
      ]
    },
    {
      "cell_type": "code",
      "execution_count": 31,
      "metadata": {
        "id": "xx-lh4CSuFDH"
      },
      "outputs": [],
      "source": []
    },
    {
      "cell_type": "markdown",
      "metadata": {
        "id": "zQIwmNpauFDI"
      },
      "source": [
        "#### [Camadas de Convolução (_Convolution Layers_)](https://pytorch.org/docs/stable/nn.html#convolution-layers)\n",
        "\n",
        "* [`nn.Conv1d`](https://pytorch.org/docs/stable/generated/torch.nn.Conv1d.html#torch.nn.Conv3d): convolução 1-D.\n",
        "* [`nn.Conv2d`](https://pytorch.org/docs/stable/generated/torch.nn.Conv2d.html): convolução 2-D.\n",
        "* [`nn.Conv3d`](https://pytorch.org/docs/stable/generated/torch.nn.Conv3d.html): convolução 3-D.\n",
        "\n",
        "#### [Camadas de _Pooling_](https://pytorch.org/docs/stable/nn.html#pooling-layers)\n",
        "\n",
        "* [`nn.MaxPool1d`](https://pytorch.org/docs/stable/generated/torch.nn.MaxPool1d.htm): 1-D _max pooling_.\n",
        "* [`nn.MaxPool2d`](https://pytorch.org/docs/stable/generated/torch.nn.MaxPool2d.htm): 2-D _max pooling_.\n",
        "* [`nn.MaxPool3d`](https://pytorch.org/docs/stable/generated/torch.nn.MaxPool3d.htm): 3-D _max pooling_."
      ]
    },
    {
      "cell_type": "markdown",
      "metadata": {
        "id": "DGVcWtp0uFDI"
      },
      "source": [
        "### Qual a rede neural convolucional que vamos criar para o MNIST?\n",
        "\n",
        "<img src=\"https://github.com/storopoli/ciencia-de-dados/blob/main/notebooks/images/MNIST-CNN.webp?raw=1\" alt=\"MNIST CNN\" style=\"width: 700px;\"/>"
      ]
    },
    {
      "cell_type": "markdown",
      "metadata": {
        "id": "SZf2dd2UuFDJ"
      },
      "source": [
        "## Como construir sua rede neural convolucional no PyTorch\n",
        "\n",
        "Construir redes neurais com o **PyTorch** é fácil.\n",
        "\n",
        "Temos que criar uma Rede Neural a partir de uma classe [`nn.Module()`](https://pytorch.org/docs/stable/generated/torch.nn.Module.html?highlight=module#torch.nn.Module) e criar um construtor com o método `__init__()` e implementar todas as layers e propagações desejadas com o método `forward()`."
      ]
    },
    {
      "cell_type": "code",
      "execution_count": 32,
      "metadata": {
        "id": "k64QyAhRuFDJ"
      },
      "outputs": [],
      "source": [
        "import torch.nn as nn"
      ]
    },
    {
      "cell_type": "code",
      "execution_count": 33,
      "metadata": {
        "id": "6gluozptuFDJ",
        "outputId": "b59a1674-e0a7-4899-9c2d-a37eff3e2eaa",
        "colab": {
          "base_uri": "https://localhost:8080/"
        }
      },
      "outputs": [
        {
          "output_type": "stream",
          "name": "stdout",
          "text": [
            "ConvNet(\n",
            "  (layer1): Sequential(\n",
            "    (0): Conv2d(1, 32, kernel_size=(5, 5), stride=(1, 1), padding=(2, 2))\n",
            "    (1): ReLU()\n",
            "    (2): MaxPool2d(kernel_size=2, stride=2, padding=0, dilation=1, ceil_mode=False)\n",
            "  )\n",
            "  (layer2): Sequential(\n",
            "    (0): Conv2d(32, 64, kernel_size=(5, 5), stride=(1, 1), padding=(2, 2))\n",
            "    (1): ReLU()\n",
            "    (2): MaxPool2d(kernel_size=2, stride=2, padding=0, dilation=1, ceil_mode=False)\n",
            "  )\n",
            "  (fc1): Sequential(\n",
            "    (0): Linear(in_features=3136, out_features=1000, bias=True)\n",
            "    (1): ReLU()\n",
            "  )\n",
            "  (fc2): Linear(in_features=1000, out_features=10, bias=True)\n",
            ")\n"
          ]
        }
      ],
      "source": [
        "class ConvNet(nn.Module):\n",
        "    def __init__(self):\n",
        "        super(ConvNet, self).__init__()\n",
        "        self.layer1 = nn.Sequential(\n",
        "            nn.Conv2d(1, 32, kernel_size=5, stride=1, padding=2),\n",
        "            nn.ReLU(),\n",
        "            nn.MaxPool2d(kernel_size=2, stride=2))\n",
        "        self.layer2 = nn.Sequential(\n",
        "            nn.Conv2d(32, 64, kernel_size=5, stride=1, padding=2),\n",
        "            nn.ReLU(),\n",
        "            nn.MaxPool2d(kernel_size=2, stride=2))\n",
        "        self.fc1 = nn.Sequential(\n",
        "            nn.Linear(7 * 7 * 64, 1000),\n",
        "            nn.ReLU())\n",
        "        self.fc2 = nn.Linear(1000, 10)\n",
        "\n",
        "    def forward(self, x):\n",
        "        out = self.layer1(x)\n",
        "        out = self.layer2(out)\n",
        "        out = out.reshape(out.size(0), -1)\n",
        "        out = self.fc1(out)\n",
        "        out = self.fc2(out)\n",
        "        return out\n",
        "\n",
        "# Instancia o Model()\n",
        "model = ConvNet()\n",
        "\n",
        "print(model)"
      ]
    },
    {
      "cell_type": "markdown",
      "metadata": {
        "id": "WrUX7VUIuFDK"
      },
      "source": [
        "Quantos paramêtros temos?"
      ]
    },
    {
      "cell_type": "code",
      "execution_count": 34,
      "metadata": {
        "id": "YC_ZWhDluFDL",
        "outputId": "3c85adfe-63db-4112-e265-27a9490ec5da",
        "colab": {
          "base_uri": "https://localhost:8080/"
        }
      },
      "outputs": [
        {
          "output_type": "execute_result",
          "data": {
            "text/plain": [
              "3199106"
            ]
          },
          "metadata": {},
          "execution_count": 34
        }
      ],
      "source": [
        "def count_parameters(model):\n",
        "    return sum(p.numel() for p in model.parameters() if p.requires_grad)\n",
        "\n",
        "count_parameters(model)"
      ]
    },
    {
      "cell_type": "markdown",
      "metadata": {
        "id": "kor3eTKluFDM"
      },
      "source": [
        "## Como treinar sua rede neural no PyTorch\n",
        "\n",
        "Uma vez especificado e instanciado o modelo, podemos manipulá-lo de maneira dinâmica.\n",
        "Escolhemos a função custo (`loss_fn`) como `nn.CrossEntropyLoss()` e também a taxa de aprendizagem $\\eta$ em `1e-6` e a quantidade de épocas a serem treinadas (`epochs`):\n",
        "\n",
        "```python\n",
        "model = Sua_rede_neural()\n",
        "loss_fn = nn.CrossEntropyLoss()\n",
        "learning_rate = 1e-6\n",
        "epochs = 100\n",
        "\n",
        "# Instânciar o Otimizador Adam\n",
        "optimizer = torch.optim.Adam(model.parameters(), lr=learning_rate)\n",
        "\n",
        "# For-loop de treino\n",
        "for epoch in range(epochs): # para cada época\n",
        "    for (images, labels) in train_loader: # para cada batch\n",
        "        # Gera a propagação (feed forward)\n",
        "        outputs = model(images)\n",
        "        \n",
        "        # Calcula a função-custo\n",
        "        loss = loss_fn(outputs, labels)\n",
        "        \n",
        "        # Retro-propagação (Backprop) e a otimização com Adam\n",
        "        optimizer.zero_grad()\n",
        "        loss.backward()\n",
        "        optimizer.step()\n",
        "```"
      ]
    },
    {
      "cell_type": "code",
      "execution_count": 34,
      "metadata": {
        "id": "iUh2jOgjuFDM"
      },
      "outputs": [],
      "source": []
    },
    {
      "cell_type": "markdown",
      "metadata": {
        "id": "5iasgh5auFDa"
      },
      "source": [
        "### OBSERVAÇÃO\n",
        "\n",
        "Esta rede neural possui muitos parâmetros.\n",
        "Aproximadamente 3 milhões e 200 mil paramêtros!\n",
        "Não tente rodar isso sem ser usando uma GPU!\n",
        "O Google Colab te dá uma GPU de graça.\n",
        "Clique no botão abaixo para abrir este notebook no Google Colab.\n",
        "Não esqueça de trocar sua `Runtime` de `None` para `GPU`.\n",
        "\n",
        "[![Open In Colab](https://colab.research.google.com/assets/colab-badge.svg)](https://colab.research.google.com/github/storopoli/ciencia-de-dados/blob/main/notebooks/Aula_19_Redes_Neurais_Convolucionais_com_PyTorch.ipynb)"
      ]
    },
    {
      "cell_type": "code",
      "execution_count": 35,
      "metadata": {
        "id": "mEbZsA9HuFDb",
        "outputId": "91c4b1bd-07bb-4a0e-d9d3-d421873d3db6",
        "colab": {
          "base_uri": "https://localhost:8080/"
        }
      },
      "outputs": [
        {
          "output_type": "execute_result",
          "data": {
            "text/plain": [
              "True"
            ]
          },
          "metadata": {},
          "execution_count": 35
        }
      ],
      "source": [
        "# Isto tem que retornar True\n",
        "import torch\n",
        "torch.cuda.is_available()"
      ]
    },
    {
      "cell_type": "code",
      "execution_count": 36,
      "metadata": {
        "id": "iC62KOdIuFDc",
        "outputId": "79537d0b-dee8-4312-b897-b7690bb7e88c",
        "colab": {
          "base_uri": "https://localhost:8080/",
          "height": 36
        }
      },
      "outputs": [
        {
          "output_type": "execute_result",
          "data": {
            "text/plain": [
              "'Tesla T4'"
            ],
            "application/vnd.google.colaboratory.intrinsic+json": {
              "type": "string"
            }
          },
          "metadata": {},
          "execution_count": 36
        }
      ],
      "source": [
        "# Sua GPU\n",
        "torch.cuda.get_device_name()\n"
      ]
    },
    {
      "cell_type": "code",
      "source": [
        "from torch.utils.data import DataLoader\n",
        "from torch.optim import Adam\n",
        "\n",
        "models = []"
      ],
      "metadata": {
        "id": "cBD5mfi6EZTH"
      },
      "execution_count": 37,
      "outputs": []
    },
    {
      "cell_type": "code",
      "execution_count": 38,
      "metadata": {
        "id": "JWfvfJYVuFDe",
        "outputId": "2f33a8eb-50bc-4a3b-b861-9f3b13699041",
        "collapsed": true,
        "colab": {
          "base_uri": "https://localhost:8080/"
        }
      },
      "outputs": [
        {
          "output_type": "stream",
          "name": "stdout",
          "text": [
            "Época [1/3], Step [100/1875], Custo: 0.342, Acurácia: 93.75\n",
            "Época [1/3], Step [200/1875], Custo: 0.08, Acurácia: 96.875\n",
            "Época [1/3], Step [300/1875], Custo: 0.327, Acurácia: 90.625\n",
            "Época [1/3], Step [400/1875], Custo: 0.062, Acurácia: 96.875\n",
            "Época [1/3], Step [500/1875], Custo: 0.079, Acurácia: 96.875\n",
            "Época [1/3], Step [600/1875], Custo: 0.223, Acurácia: 96.875\n",
            "Época [1/3], Step [700/1875], Custo: 0.141, Acurácia: 96.875\n",
            "Época [1/3], Step [800/1875], Custo: 0.01, Acurácia: 100.0\n",
            "Época [1/3], Step [900/1875], Custo: 0.171, Acurácia: 93.75\n",
            "Época [1/3], Step [1000/1875], Custo: 0.09, Acurácia: 100.0\n",
            "Época [1/3], Step [1100/1875], Custo: 0.008, Acurácia: 100.0\n",
            "Época [1/3], Step [1200/1875], Custo: 0.023, Acurácia: 100.0\n",
            "Época [1/3], Step [1300/1875], Custo: 0.086, Acurácia: 96.875\n",
            "Época [1/3], Step [1400/1875], Custo: 0.005, Acurácia: 100.0\n",
            "Época [1/3], Step [1500/1875], Custo: 0.115, Acurácia: 96.875\n",
            "Época [1/3], Step [1600/1875], Custo: 0.038, Acurácia: 100.0\n",
            "Época [1/3], Step [1700/1875], Custo: 0.022, Acurácia: 100.0\n",
            "Época [1/3], Step [1800/1875], Custo: 0.001, Acurácia: 100.0\n",
            "Época [2/3], Step [100/1875], Custo: 0.001, Acurácia: 100.0\n",
            "Época [2/3], Step [200/1875], Custo: 0.001, Acurácia: 100.0\n",
            "Época [2/3], Step [300/1875], Custo: 0.01, Acurácia: 100.0\n",
            "Época [2/3], Step [400/1875], Custo: 0.325, Acurácia: 96.875\n",
            "Época [2/3], Step [500/1875], Custo: 0.009, Acurácia: 100.0\n",
            "Época [2/3], Step [600/1875], Custo: 0.023, Acurácia: 100.0\n",
            "Época [2/3], Step [700/1875], Custo: 0.059, Acurácia: 96.875\n",
            "Época [2/3], Step [800/1875], Custo: 0.002, Acurácia: 100.0\n",
            "Época [2/3], Step [900/1875], Custo: 0.002, Acurácia: 100.0\n",
            "Época [2/3], Step [1000/1875], Custo: 0.011, Acurácia: 100.0\n",
            "Época [2/3], Step [1100/1875], Custo: 0.024, Acurácia: 96.875\n",
            "Época [2/3], Step [1200/1875], Custo: 0.061, Acurácia: 96.875\n",
            "Época [2/3], Step [1300/1875], Custo: 0.019, Acurácia: 100.0\n",
            "Época [2/3], Step [1400/1875], Custo: 0.175, Acurácia: 96.875\n",
            "Época [2/3], Step [1500/1875], Custo: 0.07, Acurácia: 96.875\n",
            "Época [2/3], Step [1600/1875], Custo: 0.069, Acurácia: 96.875\n",
            "Época [2/3], Step [1700/1875], Custo: 0.145, Acurácia: 93.75\n",
            "Época [2/3], Step [1800/1875], Custo: 0.001, Acurácia: 100.0\n",
            "Época [3/3], Step [100/1875], Custo: 0.025, Acurácia: 96.875\n",
            "Época [3/3], Step [200/1875], Custo: 0.001, Acurácia: 100.0\n",
            "Época [3/3], Step [300/1875], Custo: 0.027, Acurácia: 100.0\n",
            "Época [3/3], Step [400/1875], Custo: 0.002, Acurácia: 100.0\n",
            "Época [3/3], Step [500/1875], Custo: 0.096, Acurácia: 93.75\n",
            "Época [3/3], Step [600/1875], Custo: 0.038, Acurácia: 96.875\n",
            "Época [3/3], Step [700/1875], Custo: 0.005, Acurácia: 100.0\n",
            "Época [3/3], Step [800/1875], Custo: 0.016, Acurácia: 100.0\n",
            "Época [3/3], Step [900/1875], Custo: 0.014, Acurácia: 100.0\n",
            "Época [3/3], Step [1000/1875], Custo: 0.201, Acurácia: 96.875\n",
            "Época [3/3], Step [1100/1875], Custo: 0.024, Acurácia: 100.0\n",
            "Época [3/3], Step [1200/1875], Custo: 0.015, Acurácia: 100.0\n",
            "Época [3/3], Step [1300/1875], Custo: 0.001, Acurácia: 100.0\n",
            "Época [3/3], Step [1400/1875], Custo: 0.001, Acurácia: 100.0\n",
            "Época [3/3], Step [1500/1875], Custo: 0.037, Acurácia: 100.0\n",
            "Época [3/3], Step [1600/1875], Custo: 0.002, Acurácia: 100.0\n",
            "Época [3/3], Step [1700/1875], Custo: 0.006, Acurácia: 100.0\n",
            "Época [3/3], Step [1800/1875], Custo: 0.001, Acurácia: 100.0\n",
            "Época [1/3], Step [100/1875], Custo: 0.36, Acurácia: 87.5\n",
            "Época [1/3], Step [200/1875], Custo: 0.087, Acurácia: 96.875\n",
            "Época [1/3], Step [300/1875], Custo: 0.209, Acurácia: 93.75\n",
            "Época [1/3], Step [400/1875], Custo: 0.475, Acurácia: 90.625\n",
            "Época [1/3], Step [500/1875], Custo: 0.235, Acurácia: 96.875\n",
            "Época [1/3], Step [600/1875], Custo: 0.095, Acurácia: 96.875\n",
            "Época [1/3], Step [700/1875], Custo: 0.158, Acurácia: 96.875\n",
            "Época [1/3], Step [800/1875], Custo: 0.159, Acurácia: 93.75\n",
            "Época [1/3], Step [900/1875], Custo: 0.042, Acurácia: 100.0\n",
            "Época [1/3], Step [1000/1875], Custo: 0.113, Acurácia: 96.875\n",
            "Época [1/3], Step [1100/1875], Custo: 0.012, Acurácia: 100.0\n",
            "Época [1/3], Step [1200/1875], Custo: 0.29, Acurácia: 93.75\n",
            "Época [1/3], Step [1300/1875], Custo: 0.277, Acurácia: 90.625\n",
            "Época [1/3], Step [1400/1875], Custo: 0.059, Acurácia: 96.875\n",
            "Época [1/3], Step [1500/1875], Custo: 0.006, Acurácia: 100.0\n",
            "Época [1/3], Step [1600/1875], Custo: 0.05, Acurácia: 93.75\n",
            "Época [1/3], Step [1700/1875], Custo: 0.104, Acurácia: 93.75\n",
            "Época [1/3], Step [1800/1875], Custo: 0.003, Acurácia: 100.0\n",
            "Época [2/3], Step [100/1875], Custo: 0.015, Acurácia: 100.0\n",
            "Época [2/3], Step [200/1875], Custo: 0.009, Acurácia: 100.0\n",
            "Época [2/3], Step [300/1875], Custo: 0.011, Acurácia: 100.0\n",
            "Época [2/3], Step [400/1875], Custo: 0.004, Acurácia: 100.0\n",
            "Época [2/3], Step [500/1875], Custo: 0.022, Acurácia: 100.0\n",
            "Época [2/3], Step [600/1875], Custo: 0.007, Acurácia: 100.0\n",
            "Época [2/3], Step [700/1875], Custo: 0.008, Acurácia: 100.0\n",
            "Época [2/3], Step [800/1875], Custo: 0.075, Acurácia: 96.875\n",
            "Época [2/3], Step [900/1875], Custo: 0.003, Acurácia: 100.0\n",
            "Época [2/3], Step [1000/1875], Custo: 0.051, Acurácia: 96.875\n",
            "Época [2/3], Step [1100/1875], Custo: 0.011, Acurácia: 100.0\n",
            "Época [2/3], Step [1200/1875], Custo: 0.047, Acurácia: 96.875\n",
            "Época [2/3], Step [1300/1875], Custo: 0.258, Acurácia: 96.875\n",
            "Época [2/3], Step [1400/1875], Custo: 0.043, Acurácia: 96.875\n",
            "Época [2/3], Step [1500/1875], Custo: 0.007, Acurácia: 100.0\n",
            "Época [2/3], Step [1600/1875], Custo: 0.296, Acurácia: 93.75\n",
            "Época [2/3], Step [1700/1875], Custo: 0.178, Acurácia: 96.875\n",
            "Época [2/3], Step [1800/1875], Custo: 0.001, Acurácia: 100.0\n",
            "Época [3/3], Step [100/1875], Custo: 0.002, Acurácia: 100.0\n",
            "Época [3/3], Step [200/1875], Custo: 0.046, Acurácia: 96.875\n",
            "Época [3/3], Step [300/1875], Custo: 0.003, Acurácia: 100.0\n",
            "Época [3/3], Step [400/1875], Custo: 0.015, Acurácia: 100.0\n",
            "Época [3/3], Step [500/1875], Custo: 0.005, Acurácia: 100.0\n",
            "Época [3/3], Step [600/1875], Custo: 0.012, Acurácia: 100.0\n",
            "Época [3/3], Step [700/1875], Custo: 0.037, Acurácia: 100.0\n",
            "Época [3/3], Step [800/1875], Custo: 0.133, Acurácia: 96.875\n",
            "Época [3/3], Step [900/1875], Custo: 0.022, Acurácia: 100.0\n",
            "Época [3/3], Step [1000/1875], Custo: 0.037, Acurácia: 100.0\n",
            "Época [3/3], Step [1100/1875], Custo: 0.148, Acurácia: 96.875\n",
            "Época [3/3], Step [1200/1875], Custo: 0.034, Acurácia: 100.0\n",
            "Época [3/3], Step [1300/1875], Custo: 0.015, Acurácia: 100.0\n",
            "Época [3/3], Step [1400/1875], Custo: 0.199, Acurácia: 93.75\n",
            "Época [3/3], Step [1500/1875], Custo: 0.085, Acurácia: 93.75\n",
            "Época [3/3], Step [1600/1875], Custo: 0.009, Acurácia: 100.0\n",
            "Época [3/3], Step [1700/1875], Custo: 0.002, Acurácia: 100.0\n",
            "Época [3/3], Step [1800/1875], Custo: 0.003, Acurácia: 100.0\n",
            "Época [1/3], Step [100/1875], Custo: 1.003, Acurácia: 65.625\n",
            "Época [1/3], Step [200/1875], Custo: 1.139, Acurácia: 68.75\n",
            "Época [1/3], Step [300/1875], Custo: 0.96, Acurácia: 65.625\n",
            "Época [1/3], Step [400/1875], Custo: 0.813, Acurácia: 68.75\n",
            "Época [1/3], Step [500/1875], Custo: 0.914, Acurácia: 78.125\n",
            "Época [1/3], Step [600/1875], Custo: 0.818, Acurácia: 68.75\n",
            "Época [1/3], Step [700/1875], Custo: 0.659, Acurácia: 75.0\n",
            "Época [1/3], Step [800/1875], Custo: 0.608, Acurácia: 78.125\n",
            "Época [1/3], Step [900/1875], Custo: 0.685, Acurácia: 75.0\n",
            "Época [1/3], Step [1000/1875], Custo: 0.477, Acurácia: 87.5\n",
            "Época [1/3], Step [1100/1875], Custo: 0.743, Acurácia: 75.0\n",
            "Época [1/3], Step [1200/1875], Custo: 0.836, Acurácia: 75.0\n",
            "Época [1/3], Step [1300/1875], Custo: 0.406, Acurácia: 84.375\n",
            "Época [1/3], Step [1400/1875], Custo: 0.504, Acurácia: 81.25\n",
            "Época [1/3], Step [1500/1875], Custo: 0.318, Acurácia: 84.375\n",
            "Época [1/3], Step [1600/1875], Custo: 0.602, Acurácia: 81.25\n",
            "Época [1/3], Step [1700/1875], Custo: 0.478, Acurácia: 81.25\n",
            "Época [1/3], Step [1800/1875], Custo: 0.434, Acurácia: 90.625\n",
            "Época [2/3], Step [100/1875], Custo: 0.414, Acurácia: 87.5\n",
            "Época [2/3], Step [200/1875], Custo: 0.559, Acurácia: 81.25\n",
            "Época [2/3], Step [300/1875], Custo: 0.498, Acurácia: 81.25\n",
            "Época [2/3], Step [400/1875], Custo: 0.67, Acurácia: 75.0\n",
            "Época [2/3], Step [500/1875], Custo: 0.424, Acurácia: 84.375\n",
            "Época [2/3], Step [600/1875], Custo: 0.705, Acurácia: 71.875\n",
            "Época [2/3], Step [700/1875], Custo: 0.381, Acurácia: 84.375\n",
            "Época [2/3], Step [800/1875], Custo: 0.337, Acurácia: 87.5\n",
            "Época [2/3], Step [900/1875], Custo: 0.525, Acurácia: 84.375\n",
            "Época [2/3], Step [1000/1875], Custo: 0.377, Acurácia: 90.625\n",
            "Época [2/3], Step [1100/1875], Custo: 0.593, Acurácia: 84.375\n",
            "Época [2/3], Step [1200/1875], Custo: 0.387, Acurácia: 90.625\n",
            "Época [2/3], Step [1300/1875], Custo: 0.35, Acurácia: 87.5\n",
            "Época [2/3], Step [1400/1875], Custo: 0.56, Acurácia: 84.375\n",
            "Época [2/3], Step [1500/1875], Custo: 0.781, Acurácia: 75.0\n",
            "Época [2/3], Step [1600/1875], Custo: 0.244, Acurácia: 90.625\n",
            "Época [2/3], Step [1700/1875], Custo: 0.261, Acurácia: 93.75\n",
            "Época [2/3], Step [1800/1875], Custo: 0.185, Acurácia: 90.625\n",
            "Época [3/3], Step [100/1875], Custo: 0.495, Acurácia: 84.375\n",
            "Época [3/3], Step [200/1875], Custo: 0.415, Acurácia: 84.375\n",
            "Época [3/3], Step [300/1875], Custo: 0.11, Acurácia: 96.875\n",
            "Época [3/3], Step [400/1875], Custo: 0.461, Acurácia: 84.375\n",
            "Época [3/3], Step [500/1875], Custo: 0.408, Acurácia: 78.125\n",
            "Época [3/3], Step [600/1875], Custo: 0.331, Acurácia: 87.5\n",
            "Época [3/3], Step [700/1875], Custo: 0.249, Acurácia: 93.75\n",
            "Época [3/3], Step [800/1875], Custo: 0.36, Acurácia: 84.375\n",
            "Época [3/3], Step [900/1875], Custo: 0.614, Acurácia: 81.25\n",
            "Época [3/3], Step [1000/1875], Custo: 0.693, Acurácia: 78.125\n",
            "Época [3/3], Step [1100/1875], Custo: 0.662, Acurácia: 78.125\n",
            "Época [3/3], Step [1200/1875], Custo: 0.54, Acurácia: 78.125\n",
            "Época [3/3], Step [1300/1875], Custo: 0.29, Acurácia: 93.75\n",
            "Época [3/3], Step [1400/1875], Custo: 0.634, Acurácia: 78.125\n",
            "Época [3/3], Step [1500/1875], Custo: 0.464, Acurácia: 78.125\n",
            "Época [3/3], Step [1600/1875], Custo: 0.328, Acurácia: 93.75\n",
            "Época [3/3], Step [1700/1875], Custo: 0.509, Acurácia: 84.375\n",
            "Época [3/3], Step [1800/1875], Custo: 0.509, Acurácia: 84.375\n"
          ]
        }
      ],
      "source": [
        "# Train/Test Datasets\n",
        "for p in trans_pipelines:\n",
        "\n",
        "  model = ConvNet()\n",
        "\n",
        "  train_dataset = torchvision.datasets.MNIST(root=root_path, train=True, transform=p, download=True)\n",
        "  test_dataset = torchvision.datasets.MNIST(root=root_path, train=False, transform=p)\n",
        "\n",
        "  batch_size=32\n",
        "\n",
        "  train_loader = DataLoader(dataset=train_dataset, batch_size=batch_size, shuffle=True)\n",
        "  test_loader = DataLoader(dataset=test_dataset, batch_size=batch_size, shuffle=False)\n",
        "\n",
        "  # Hiperparâmetros\n",
        "  loss_fn = nn.CrossEntropyLoss()\n",
        "  learning_rate = 0.001\n",
        "  epochs = 3\n",
        "\n",
        "  # Instânciar o Otimizador Adam\n",
        "  optimizer = Adam(model.parameters(), lr=learning_rate)\n",
        "\n",
        "  # Treinar o Modelo\n",
        "  total_step = len(train_loader) # quantos batches eu tenho\n",
        "\n",
        "  # Listas vazias\n",
        "  loss_list = []\n",
        "  acc_list = []\n",
        "\n",
        "  for epoch in range(epochs):\n",
        "      for i, (images, labels) in enumerate(train_loader):\n",
        "          # Gera a propagação (feed forward)\n",
        "          outputs = model(images)\n",
        "\n",
        "          # Calcula a função-custo\n",
        "          loss = loss_fn(outputs, labels)\n",
        "          loss_list.append(loss.item())\n",
        "\n",
        "          # Retro-propagação (Backprop) e a otimização com Adam\n",
        "          optimizer.zero_grad()\n",
        "          loss.backward()\n",
        "          optimizer.step()\n",
        "\n",
        "          # Acurácia\n",
        "          total = labels.size(0)\n",
        "          _, predicted = torch.max(outputs.data, 1)\n",
        "          correct = (predicted == labels).sum().item()\n",
        "          acc_list.append(correct / total)\n",
        "          if (i + 1) % 100 == 0:\n",
        "              print(f\"Época [{epoch+1}/{epochs}], Step [{i+1}/{total_step}], Custo: {round(loss.item(), 3)}, Acurácia: {round((correct / total) * 100, 3)}\")\n",
        "\n",
        "  models.append((model, loss_list, acc_list))"
      ]
    },
    {
      "cell_type": "markdown",
      "metadata": {
        "id": "Wn9r_OtvuFDf"
      },
      "source": [
        "### Acurácia do Modelo\n",
        "\n",
        "Usar o comando `model.eval()`\n",
        "\n",
        "Para a métrica acurácia, retorna um score de acurácia `float` entre $0$ e $1$"
      ]
    },
    {
      "cell_type": "code",
      "source": [
        "from matplotlib import pyplot as plt\n",
        "\n",
        "# Gráfico de LOOS\n",
        "plt.figure(\"LOSS\", figsize=(16,6))\n",
        "\n",
        "axis1 = plt.subplot(1,3,1)\n",
        "axis1.set_title(\"baseline\")\n",
        "plt.plot(models[0][1])\n",
        "\n",
        "axis2 = plt.subplot(1,3,2)\n",
        "axis2.set_title(\"pipeline básica\")\n",
        "plt.plot(models[1][1])\n",
        "\n",
        "axis3 = plt.subplot(1,3,3)\n",
        "axis3.set_title(\"pipeline avançada\")\n",
        "plt.plot(models[2][1])\n",
        "\n",
        "plt.show()\n",
        "\n",
        "# Gráfico de ACC\n",
        "plt.figure(\"ACC\", figsize=(16,6))\n",
        "\n",
        "axis1 = plt.subplot(1,3,1)\n",
        "axis1.set_title(\"baseline\")\n",
        "plt.plot(models[0][2])\n",
        "\n",
        "axis2 = plt.subplot(1,3,2)\n",
        "axis2.set_title(\"pipeline básica\")\n",
        "plt.plot(models[1][2])\n",
        "\n",
        "axis3 = plt.subplot(1,3,3)\n",
        "axis3.set_title(\"pipeline avançada\")\n",
        "plt.plot(models[2][2])\n",
        "\n",
        "plt.show()"
      ],
      "metadata": {
        "colab": {
          "base_uri": "https://localhost:8080/",
          "height": 1000
        },
        "id": "28ad6WP9IAur",
        "outputId": "3ab0e8c7-770d-496e-d7fb-c0ae8afc0220"
      },
      "execution_count": 48,
      "outputs": [
        {
          "output_type": "display_data",
          "data": {
            "text/plain": [
              "<Figure size 1600x600 with 3 Axes>"
            ],
            "image/png": "[encoded data removed]"
          },
          "metadata": {}
        },
        {
          "output_type": "display_data",
          "data": {
            "text/plain": [
              "<Figure size 1600x600 with 3 Axes>"
            ],
            "image/png": "[encoded data removed]"
          },
          "metadata": {}
        }
      ]
    },
    {
      "cell_type": "code",
      "execution_count": 40,
      "metadata": {
        "id": "fgEYMUG-uFDf",
        "outputId": "c31375a2-ffe7-4e35-a206-fb0ee4dda4de",
        "colab": {
          "base_uri": "https://localhost:8080/"
        }
      },
      "outputs": [
        {
          "output_type": "stream",
          "name": "stdout",
          "text": [
            "Acurácia do Modelo baseline em 10k imagens de teste: 67.66\n",
            "Acurácia do Modelo básico em 10k imagens de teste: 67.72\n",
            "Acurácia do Modelo avançada em 10k imagens de teste: 86.96\n"
          ]
        }
      ],
      "source": [
        "nomes = [\"baseline\", \"básico\",\"avançada\"]\n",
        "i = 0\n",
        "for model,_,_ in models:\n",
        "\n",
        "  model.eval() # coloca o modelo em modo de avaliação (sem calcular gradientes)\n",
        "\n",
        "  with torch.no_grad():\n",
        "      correct = 0\n",
        "      total = 0\n",
        "      for images, labels in test_loader:\n",
        "          # Feed-forward com as imagens de teste\n",
        "          outputs = model(images)\n",
        "\n",
        "          # gera predições usando a função max()\n",
        "          _, predicted = torch.max(outputs.data, 1)\n",
        "\n",
        "          # Acumula total e corretas\n",
        "          total += labels.size(0)\n",
        "          correct += (predicted == labels).sum().item()\n",
        "\n",
        "      print(f\"Acurácia do Modelo {nomes[i]} em 10k imagens de teste: {round((correct / total) * 100, 3)}\")\n",
        "      i += 1"
      ]
    }
  ],
  "metadata": {
    "celltoolbar": "Slideshow",
    "kernelspec": {
      "display_name": "Python 3",
      "name": "python3"
    },
    "language_info": {
      "codemirror_mode": {
        "name": "ipython",
        "version": 3
      },
      "file_extension": ".py",
      "mimetype": "text/x-python",
      "name": "python",
      "nbconvert_exporter": "python",
      "pygments_lexer": "ipython3",
      "version": "3.10.4"
    },
    "rise": {
      "autolaunch": true,
      "enable_chalkboard": true,
      "progress": true,
      "scroll": true,
      "slideNumber": true,
      "theme": "black"
    },
    "colab": {
      "provenance": [],
      "gpuType": "T4",
      "collapsed_sections": [
        "MZXaOgUuuFCt",
        "gWPf0oppuFC1",
        "W7PJOb1-uFC4"
      ]
    },
    "accelerator": "GPU"
  },
  "nbformat": 4,
  "nbformat_minor": 0
}