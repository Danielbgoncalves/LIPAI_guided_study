{
 "cells": [
  {
   "cell_type": "markdown",
   "id": "eedd4554",
   "metadata": {},
   "source": [
    "# Comparação entre treinos; uso de dropouts e mais camadas ocultas\n"
   ]
  },
  {
   "cell_type": "code",
   "execution_count": 39,
   "id": "972a8cd3",
   "metadata": {},
   "outputs": [],
   "source": [
    "import seaborn as sns\n",
    "import pandas as pd"
   ]
  },
  {
   "cell_type": "markdown",
   "id": "bb15ce45",
   "metadata": {},
   "source": [
    "obtensão dos dados"
   ]
  },
  {
   "cell_type": "code",
   "execution_count": 62,
   "id": "9685c59a",
   "metadata": {},
   "outputs": [
    {
     "data": {
      "text/html": [
       "<div>\n",
       "<style scoped>\n",
       "    .dataframe tbody tr th:only-of-type {\n",
       "        vertical-align: middle;\n",
       "    }\n",
       "\n",
       "    .dataframe tbody tr th {\n",
       "        vertical-align: top;\n",
       "    }\n",
       "\n",
       "    .dataframe thead th {\n",
       "        text-align: right;\n",
       "    }\n",
       "</style>\n",
       "<table border=\"1\" class=\"dataframe\">\n",
       "  <thead>\n",
       "    <tr style=\"text-align: right;\">\n",
       "      <th></th>\n",
       "      <th>survived</th>\n",
       "      <th>pclass</th>\n",
       "      <th>sex</th>\n",
       "      <th>age</th>\n",
       "      <th>sibsp</th>\n",
       "      <th>parch</th>\n",
       "      <th>fare</th>\n",
       "      <th>embarked</th>\n",
       "      <th>class</th>\n",
       "      <th>who</th>\n",
       "      <th>adult_male</th>\n",
       "      <th>deck</th>\n",
       "      <th>embark_town</th>\n",
       "      <th>alive</th>\n",
       "      <th>alone</th>\n",
       "    </tr>\n",
       "  </thead>\n",
       "  <tbody>\n",
       "    <tr>\n",
       "      <th>0</th>\n",
       "      <td>0</td>\n",
       "      <td>3</td>\n",
       "      <td>male</td>\n",
       "      <td>22.0</td>\n",
       "      <td>1</td>\n",
       "      <td>0</td>\n",
       "      <td>7.2500</td>\n",
       "      <td>S</td>\n",
       "      <td>Third</td>\n",
       "      <td>man</td>\n",
       "      <td>True</td>\n",
       "      <td>NaN</td>\n",
       "      <td>Southampton</td>\n",
       "      <td>no</td>\n",
       "      <td>False</td>\n",
       "    </tr>\n",
       "    <tr>\n",
       "      <th>1</th>\n",
       "      <td>1</td>\n",
       "      <td>1</td>\n",
       "      <td>female</td>\n",
       "      <td>38.0</td>\n",
       "      <td>1</td>\n",
       "      <td>0</td>\n",
       "      <td>71.2833</td>\n",
       "      <td>C</td>\n",
       "      <td>First</td>\n",
       "      <td>woman</td>\n",
       "      <td>False</td>\n",
       "      <td>C</td>\n",
       "      <td>Cherbourg</td>\n",
       "      <td>yes</td>\n",
       "      <td>False</td>\n",
       "    </tr>\n",
       "    <tr>\n",
       "      <th>2</th>\n",
       "      <td>1</td>\n",
       "      <td>3</td>\n",
       "      <td>female</td>\n",
       "      <td>26.0</td>\n",
       "      <td>0</td>\n",
       "      <td>0</td>\n",
       "      <td>7.9250</td>\n",
       "      <td>S</td>\n",
       "      <td>Third</td>\n",
       "      <td>woman</td>\n",
       "      <td>False</td>\n",
       "      <td>NaN</td>\n",
       "      <td>Southampton</td>\n",
       "      <td>yes</td>\n",
       "      <td>True</td>\n",
       "    </tr>\n",
       "    <tr>\n",
       "      <th>3</th>\n",
       "      <td>1</td>\n",
       "      <td>1</td>\n",
       "      <td>female</td>\n",
       "      <td>35.0</td>\n",
       "      <td>1</td>\n",
       "      <td>0</td>\n",
       "      <td>53.1000</td>\n",
       "      <td>S</td>\n",
       "      <td>First</td>\n",
       "      <td>woman</td>\n",
       "      <td>False</td>\n",
       "      <td>C</td>\n",
       "      <td>Southampton</td>\n",
       "      <td>yes</td>\n",
       "      <td>False</td>\n",
       "    </tr>\n",
       "    <tr>\n",
       "      <th>4</th>\n",
       "      <td>0</td>\n",
       "      <td>3</td>\n",
       "      <td>male</td>\n",
       "      <td>35.0</td>\n",
       "      <td>0</td>\n",
       "      <td>0</td>\n",
       "      <td>8.0500</td>\n",
       "      <td>S</td>\n",
       "      <td>Third</td>\n",
       "      <td>man</td>\n",
       "      <td>True</td>\n",
       "      <td>NaN</td>\n",
       "      <td>Southampton</td>\n",
       "      <td>no</td>\n",
       "      <td>True</td>\n",
       "    </tr>\n",
       "  </tbody>\n",
       "</table>\n",
       "</div>"
      ],
      "text/plain": [
       "   survived  pclass     sex   age  sibsp  parch     fare embarked  class  \\\n",
       "0         0       3    male  22.0      1      0   7.2500        S  Third   \n",
       "1         1       1  female  38.0      1      0  71.2833        C  First   \n",
       "2         1       3  female  26.0      0      0   7.9250        S  Third   \n",
       "3         1       1  female  35.0      1      0  53.1000        S  First   \n",
       "4         0       3    male  35.0      0      0   8.0500        S  Third   \n",
       "\n",
       "     who  adult_male deck  embark_town alive  alone  \n",
       "0    man        True  NaN  Southampton    no  False  \n",
       "1  woman       False    C    Cherbourg   yes  False  \n",
       "2  woman       False  NaN  Southampton   yes   True  \n",
       "3  woman       False    C  Southampton   yes  False  \n",
       "4    man        True  NaN  Southampton    no   True  "
      ]
     },
     "execution_count": 62,
     "metadata": {},
     "output_type": "execute_result"
    }
   ],
   "source": [
    "titanic_df = sns.load_dataset('titanic')\n",
    "titanic_df.head()"
   ]
  },
  {
   "cell_type": "markdown",
   "id": "182cd958",
   "metadata": {},
   "source": [
    "separar os dados que nos são relevantes"
   ]
  },
  {
   "cell_type": "code",
   "execution_count": 63,
   "id": "3104e59f",
   "metadata": {},
   "outputs": [
    {
     "data": {
      "text/html": [
       "<div>\n",
       "<style scoped>\n",
       "    .dataframe tbody tr th:only-of-type {\n",
       "        vertical-align: middle;\n",
       "    }\n",
       "\n",
       "    .dataframe tbody tr th {\n",
       "        vertical-align: top;\n",
       "    }\n",
       "\n",
       "    .dataframe thead th {\n",
       "        text-align: right;\n",
       "    }\n",
       "</style>\n",
       "<table border=\"1\" class=\"dataframe\">\n",
       "  <thead>\n",
       "    <tr style=\"text-align: right;\">\n",
       "      <th></th>\n",
       "      <th>survived</th>\n",
       "      <th>pclass</th>\n",
       "      <th>sex</th>\n",
       "      <th>age</th>\n",
       "      <th>sibsp</th>\n",
       "      <th>parch</th>\n",
       "      <th>fare</th>\n",
       "      <th>embarked</th>\n",
       "      <th>class</th>\n",
       "      <th>who</th>\n",
       "      <th>adult_male</th>\n",
       "      <th>deck</th>\n",
       "      <th>embark_town</th>\n",
       "      <th>alive</th>\n",
       "      <th>alone</th>\n",
       "      <th>female</th>\n",
       "    </tr>\n",
       "  </thead>\n",
       "  <tbody>\n",
       "    <tr>\n",
       "      <th>0</th>\n",
       "      <td>0</td>\n",
       "      <td>3</td>\n",
       "      <td>male</td>\n",
       "      <td>22.0</td>\n",
       "      <td>1</td>\n",
       "      <td>0</td>\n",
       "      <td>7.2500</td>\n",
       "      <td>S</td>\n",
       "      <td>Third</td>\n",
       "      <td>man</td>\n",
       "      <td>True</td>\n",
       "      <td>NaN</td>\n",
       "      <td>Southampton</td>\n",
       "      <td>0</td>\n",
       "      <td>False</td>\n",
       "      <td>0</td>\n",
       "    </tr>\n",
       "    <tr>\n",
       "      <th>1</th>\n",
       "      <td>1</td>\n",
       "      <td>1</td>\n",
       "      <td>female</td>\n",
       "      <td>38.0</td>\n",
       "      <td>1</td>\n",
       "      <td>0</td>\n",
       "      <td>71.2833</td>\n",
       "      <td>C</td>\n",
       "      <td>First</td>\n",
       "      <td>woman</td>\n",
       "      <td>False</td>\n",
       "      <td>C</td>\n",
       "      <td>Cherbourg</td>\n",
       "      <td>1</td>\n",
       "      <td>False</td>\n",
       "      <td>1</td>\n",
       "    </tr>\n",
       "    <tr>\n",
       "      <th>2</th>\n",
       "      <td>1</td>\n",
       "      <td>3</td>\n",
       "      <td>female</td>\n",
       "      <td>26.0</td>\n",
       "      <td>0</td>\n",
       "      <td>0</td>\n",
       "      <td>7.9250</td>\n",
       "      <td>S</td>\n",
       "      <td>Third</td>\n",
       "      <td>woman</td>\n",
       "      <td>False</td>\n",
       "      <td>NaN</td>\n",
       "      <td>Southampton</td>\n",
       "      <td>1</td>\n",
       "      <td>True</td>\n",
       "      <td>1</td>\n",
       "    </tr>\n",
       "    <tr>\n",
       "      <th>3</th>\n",
       "      <td>1</td>\n",
       "      <td>1</td>\n",
       "      <td>female</td>\n",
       "      <td>35.0</td>\n",
       "      <td>1</td>\n",
       "      <td>0</td>\n",
       "      <td>53.1000</td>\n",
       "      <td>S</td>\n",
       "      <td>First</td>\n",
       "      <td>woman</td>\n",
       "      <td>False</td>\n",
       "      <td>C</td>\n",
       "      <td>Southampton</td>\n",
       "      <td>1</td>\n",
       "      <td>False</td>\n",
       "      <td>1</td>\n",
       "    </tr>\n",
       "    <tr>\n",
       "      <th>4</th>\n",
       "      <td>0</td>\n",
       "      <td>3</td>\n",
       "      <td>male</td>\n",
       "      <td>35.0</td>\n",
       "      <td>0</td>\n",
       "      <td>0</td>\n",
       "      <td>8.0500</td>\n",
       "      <td>S</td>\n",
       "      <td>Third</td>\n",
       "      <td>man</td>\n",
       "      <td>True</td>\n",
       "      <td>NaN</td>\n",
       "      <td>Southampton</td>\n",
       "      <td>0</td>\n",
       "      <td>True</td>\n",
       "      <td>0</td>\n",
       "    </tr>\n",
       "  </tbody>\n",
       "</table>\n",
       "</div>"
      ],
      "text/plain": [
       "   survived  pclass     sex   age  sibsp  parch     fare embarked  class  \\\n",
       "0         0       3    male  22.0      1      0   7.2500        S  Third   \n",
       "1         1       1  female  38.0      1      0  71.2833        C  First   \n",
       "2         1       3  female  26.0      0      0   7.9250        S  Third   \n",
       "3         1       1  female  35.0      1      0  53.1000        S  First   \n",
       "4         0       3    male  35.0      0      0   8.0500        S  Third   \n",
       "\n",
       "     who  adult_male deck  embark_town  alive  alone  female  \n",
       "0    man        True  NaN  Southampton      0  False       0  \n",
       "1  woman       False    C    Cherbourg      1  False       1  \n",
       "2  woman       False  NaN  Southampton      1   True       1  \n",
       "3  woman       False    C  Southampton      1  False       1  \n",
       "4    man        True  NaN  Southampton      0   True       0  "
      ]
     },
     "execution_count": 63,
     "metadata": {},
     "output_type": "execute_result"
    }
   ],
   "source": [
    "feature_names = ['pclass', 'female', 'age', 'fare'] # classe, feminino, idade, preço da passagem\n",
    "titanic_df['female'] = titanic_df['sex'].map({'male': 0, 'female':1})\n",
    "titanic_df['alive'] = titanic_df['alive'].map({'no': 0, 'yes':1})\n",
    "titanic_df.dropna(subset=feature_names, inplace=True)\n",
    "\n",
    "titanic_df.head()"
   ]
  },
  {
   "cell_type": "markdown",
   "id": "69faee4a",
   "metadata": {},
   "source": [
    "Transformar em matrizes do numpy"
   ]
  },
  {
   "cell_type": "code",
   "execution_count": 64,
   "id": "3a530257",
   "metadata": {},
   "outputs": [],
   "source": [
    "X = titanic_df[feature_names].to_numpy()\n",
    "Y = titanic_df['alive'].to_numpy()"
   ]
  },
  {
   "cell_type": "markdown",
   "id": "1aad47cd",
   "metadata": {},
   "source": [
    "Separar em treino e teste"
   ]
  },
  {
   "cell_type": "code",
   "execution_count": 85,
   "id": "5af03fba",
   "metadata": {},
   "outputs": [],
   "source": [
    "#!pip install scikit-learn\n",
    "from sklearn.model_selection import train_test_split\n",
    "\n",
    "x_train, x_test, y_train, y_test = train_test_split( X, Y, test_size=0.2,random_state=42,stratify=Y) "
   ]
  },
  {
   "cell_type": "markdown",
   "id": "baba75fc",
   "metadata": {},
   "source": [
    "##### As classes a serem comparadas"
   ]
  },
  {
   "cell_type": "code",
   "execution_count": 45,
   "id": "9827e10e",
   "metadata": {},
   "outputs": [],
   "source": [
    "#!pip install torch  --index-url https://download.pytorch.org/whl/cpu\n",
    "\n",
    "import torch\n",
    "import torch.nn as nn\n",
    "import torch.nn.functional as F"
   ]
  },
  {
   "cell_type": "code",
   "execution_count": 144,
   "id": "67a7a8c9",
   "metadata": {},
   "outputs": [],
   "source": [
    "class ClassBin(nn.Module):\n",
    "    # Construtor\n",
    "    def __init__(self):\n",
    "        super(ClassBin, self).__init__()\n",
    "        self.fc1 = nn.Linear(4, 20) # primeira hidden layer\n",
    "        self.fc2 = nn.Linear(20, 1) # segunda hidden layer\n",
    "        self.sigmoid = nn.Sigmoid() # output layer com ativação Sigmoid\n",
    "\n",
    "    # Propagação (Feed Forward)\n",
    "    def forward(self, x):\n",
    "        x = F.relu(self.fc1(x))\n",
    "        x = self.fc2(x)\n",
    "        x = self.sigmoid(x)\n",
    "        return x\n",
    "\n",
    "modelo_simples = ClassBin()"
   ]
  },
  {
   "cell_type": "code",
   "execution_count": 167,
   "id": "673556ce",
   "metadata": {},
   "outputs": [],
   "source": [
    "class ClassBin2(nn.Module):\n",
    "    def __init__(self):\n",
    "        super(ClassBin2, self).__init__()\n",
    "        self.fc1 = nn.Linear(4, 16)  \n",
    "        self.dropout1 = nn.Dropout(0.2)\n",
    "        self.fc2 = nn.Linear(16, 8) \n",
    "        self.dropout2 = nn.Dropout(0.2) \n",
    "        self.fc3 = nn.Linear(8,1)   \n",
    "        self.sigmoid = nn.Sigmoid()  \n",
    "\n",
    "    def forward(self, x):\n",
    "        x = F.relu(self.fc1(x))\n",
    "        x = self.dropout1(x)\n",
    "        x = F.relu(self.fc2(x))\n",
    "        x = self.dropout2(x)\n",
    "        x = self.fc3(x)\n",
    "        x = self.sigmoid(x) \n",
    "        return x\n",
    "    \n",
    "modelo_rebuscado = ClassBin2()"
   ]
  },
  {
   "cell_type": "markdown",
   "id": "ef4426c2",
   "metadata": {},
   "source": [
    "## Modelo Simples"
   ]
  },
  {
   "cell_type": "markdown",
   "id": "d02b21c4",
   "metadata": {},
   "source": [
    "Preparando variaveis para sessão de treino"
   ]
  },
  {
   "cell_type": "code",
   "execution_count": 146,
   "id": "eb71de99",
   "metadata": {},
   "outputs": [],
   "source": [
    "loos_fn = nn.BCELoss()\n",
    "max_epochs = 100\n",
    "batch_size = 32\n",
    "learning_rate = 0.001 # começando alto ne, diminui automático será ?\n",
    "\n",
    "optimizer = torch.optim.Adam(modelo_simples.parameters(), lr=learning_rate)"
   ]
  },
  {
   "cell_type": "markdown",
   "id": "15227c6d",
   "metadata": {},
   "source": [
    "Convertendo dados para tensores"
   ]
  },
  {
   "cell_type": "code",
   "execution_count": 147,
   "id": "b32704f0",
   "metadata": {},
   "outputs": [],
   "source": [
    "from torch.utils.data import DataLoader, TensorDataset\n",
    "\n",
    "# numpy -> torch.Tensor\n",
    "X_train = torch.Tensor(x_train)\n",
    "X_test = torch.Tensor(x_test)\n",
    "Y_train = torch.Tensor(y_train)\n",
    "Y_test = torch.Tensor(y_test)\n",
    "\n",
    "# torch usa objetos de DataSets pra facilitar fazer os batchs \n",
    "train = TensorDataset(X_train, Y_train)\n",
    "train_loader = DataLoader(train, batch_size=batch_size, shuffle=True)\n",
    "\n",
    "test = TensorDataset(X_test, Y_test)\n",
    "test_loader = DataLoader(test, batch_size=batch_size)"
   ]
  },
  {
   "cell_type": "markdown",
   "id": "cdfc3509",
   "metadata": {},
   "source": [
    "Treinamento "
   ]
  },
  {
   "cell_type": "code",
   "execution_count": 148,
   "id": "f2b7b0d2",
   "metadata": {},
   "outputs": [],
   "source": [
    "def avalia(model):\n",
    "    model.eval()\n",
    "    \n",
    "    with torch.no_grad():  # Desabilitar gradientes durante avaliação\n",
    "        train_pred = model(X_train)\n",
    "        train_pred_binary = (train_pred > 0.5).float().flatten()\n",
    "        train_acc = torch.sum(train_pred_binary == Y_train) / len(Y_train)\n",
    "\n",
    "        test_pred = model(X_test)\n",
    "        test_pred_binary = (test_pred > 0.5).float().flatten()\n",
    "        test_acc = torch.sum(test_pred_binary == Y_test) / len(Y_test)\n",
    "\n",
    "    return train_acc, test_acc"
   ]
  },
  {
   "cell_type": "code",
   "execution_count": 149,
   "id": "5c671549",
   "metadata": {},
   "outputs": [
    {
     "name": "stdout",
     "output_type": "stream",
     "text": [
      "epoca 0: loss = 0.841\n",
      "epoca 10: loss = 0.511\n",
      "epoca 20: loss = 0.580\n",
      "epoca 30: loss = 0.451\n",
      "epoca 40: loss = 0.638\n",
      "epoca 50: loss = 0.552\n",
      "epoca 60: loss = 0.489\n",
      "epoca 70: loss = 0.515\n",
      "epoca 80: loss = 0.516\n",
      "epoca 90: loss = 0.583\n"
     ]
    }
   ],
   "source": [
    "modelo_simples.train()\n",
    "\n",
    "for epoch in range(max_epochs):\n",
    "\n",
    "    for batch in train_loader:\n",
    "\n",
    "        x = batch[0]\n",
    "        y = batch[1]\n",
    "\n",
    "        y_pred = modelo_simples(x) # chama forward internamente e mais um pá de coisas, pelo dunder __call__\n",
    "\n",
    "        # Usar unsqueeze sem modificar in-place para evitar problemas\n",
    "        loss = loos_fn(y_pred, y.unsqueeze(1))\n",
    "\n",
    "        optimizer.zero_grad()\n",
    "\n",
    "        loss.backward()\n",
    "\n",
    "        optimizer.step()\n",
    "\n",
    "    if(epoch % 10 == 0):\n",
    "        print(f\"epoca {epoch}: loss = {loss.item():.3f}\")"
   ]
  },
  {
   "cell_type": "markdown",
   "id": "cecf4f09",
   "metadata": {},
   "source": [
    "Avaliacao"
   ]
  },
  {
   "cell_type": "code",
   "execution_count": 150,
   "id": "513fa4c8",
   "metadata": {},
   "outputs": [],
   "source": [
    "s_train_acc, s_test_acc = avalia(modelo_simples)"
   ]
  },
  {
   "cell_type": "markdown",
   "id": "cbca35fa",
   "metadata": {},
   "source": [
    "## Modelo Rebuscado"
   ]
  },
  {
   "cell_type": "code",
   "execution_count": null,
   "id": "82e0569b",
   "metadata": {},
   "outputs": [],
   "source": [
    "loos_fn = nn.BCELoss()\n",
    "max_epochs = 100\n",
    "batch_size = 32\n",
    "learning_rate = 0.001 # começando alto ne, diminui automático será ?\n",
    "\n",
    "optimizer = torch.optim.Adam(modelo_rebuscado.parameters(), lr=learning_rate)"
   ]
  },
  {
   "cell_type": "code",
   "execution_count": 177,
   "id": "c74f3707",
   "metadata": {},
   "outputs": [],
   "source": [
    "from torch.utils.data import DataLoader, TensorDataset\n",
    "\n",
    "# numpy -> torch.Tensor\n",
    "X_train = torch.Tensor(x_train)\n",
    "X_test = torch.Tensor(x_test)\n",
    "Y_train = torch.Tensor(y_train)\n",
    "Y_test = torch.Tensor(y_test)\n",
    "\n",
    "# torch usa objetos de DataSets pra facilitar fazer os batchs \n",
    "train = TensorDataset(X_train, Y_train)\n",
    "train_loader = DataLoader(train, batch_size=batch_size, shuffle=True)\n",
    "\n",
    "test = TensorDataset(X_test, Y_test)\n",
    "test_loader = DataLoader(test, batch_size=batch_size)"
   ]
  },
  {
   "cell_type": "code",
   "execution_count": 178,
   "id": "4228009f",
   "metadata": {},
   "outputs": [
    {
     "name": "stdout",
     "output_type": "stream",
     "text": [
      "epoca 0: loss = 0.454\n",
      "epoca 10: loss = 0.454\n",
      "epoca 20: loss = 0.551\n",
      "epoca 30: loss = 0.524\n",
      "epoca 40: loss = 0.667\n",
      "epoca 50: loss = 0.539\n",
      "epoca 60: loss = 0.467\n",
      "epoca 70: loss = 0.390\n",
      "epoca 80: loss = 0.356\n",
      "epoca 90: loss = 0.507\n",
      "epoca 100: loss = 0.380\n",
      "epoca 110: loss = 0.286\n",
      "epoca 120: loss = 0.564\n",
      "epoca 130: loss = 0.545\n",
      "epoca 140: loss = 0.667\n",
      "epoca 150: loss = 0.544\n",
      "epoca 160: loss = 0.551\n",
      "epoca 170: loss = 0.389\n",
      "epoca 180: loss = 0.446\n",
      "epoca 190: loss = 0.701\n"
     ]
    }
   ],
   "source": [
    "modelo_rebuscado.train()\n",
    "\n",
    "for epoch in range(max_epochs):\n",
    "\n",
    "    for batch in train_loader:\n",
    "\n",
    "        x = batch[0]\n",
    "        y = batch[1]\n",
    "\n",
    "        y_pred = modelo_rebuscado(x) # chama forward internamente e mais um pá de coisas, pelo dunder __call__\n",
    "\n",
    "        # Usar unsqueeze sem modificar in-place para evitar problemas\n",
    "        loss = loos_fn(y_pred, y.unsqueeze(1))\n",
    "\n",
    "        optimizer.zero_grad()\n",
    "\n",
    "        loss.backward()\n",
    "\n",
    "        optimizer.step()\n",
    "\n",
    "    if(epoch % 10 == 0):\n",
    "        print(f\"epoca {epoch}: loss = {loss.item():.3f}\")"
   ]
  },
  {
   "cell_type": "code",
   "execution_count": 179,
   "id": "8125ce9a",
   "metadata": {},
   "outputs": [],
   "source": [
    "r_train_acc, r_test_acc = avalia(modelo_rebuscado)"
   ]
  },
  {
   "cell_type": "markdown",
   "id": "33d87d84",
   "metadata": {},
   "source": [
    "## Comparação de modelos"
   ]
  },
  {
   "cell_type": "code",
   "execution_count": 180,
   "id": "c2e3d06b",
   "metadata": {},
   "outputs": [
    {
     "name": "stdout",
     "output_type": "stream",
     "text": [
      "\n",
      "-------------- SIMPLES --------------\n",
      "\n",
      "Acurácia de Treino: 0.7846\n",
      "Acurácia de Teste: 0.7483\n",
      "\n",
      "-------------- REBUSCADO --------------\n",
      "\n",
      "Acurácia de Treino: 0.8021\n",
      "Acurácia de Teste: 0.8042\n"
     ]
    }
   ],
   "source": [
    "print('\\n-------------- SIMPLES --------------\\n')\n",
    "print(f\"Acurácia de Treino: {s_train_acc:.4f}\")\n",
    "print(f\"Acurácia de Teste: {s_test_acc:.4f}\")\n",
    "\n",
    "print('\\n-------------- REBUSCADO --------------\\n')\n",
    "print(f\"Acurácia de Treino: {r_train_acc:.4f}\")\n",
    "print(f\"Acurácia de Teste: {r_test_acc:.4f}\")"
   ]
  }
 ],
 "metadata": {
  "kernelspec": {
   "display_name": ".venv (3.11.9)",
   "language": "python",
   "name": "python3"
  },
  "language_info": {
   "codemirror_mode": {
    "name": "ipython",
    "version": 3
   },
   "file_extension": ".py",
   "mimetype": "text/x-python",
   "name": "python",
   "nbconvert_exporter": "python",
   "pygments_lexer": "ipython3",
   "version": "3.11.9"
  }
 },
 "nbformat": 4,
 "nbformat_minor": 5
}
