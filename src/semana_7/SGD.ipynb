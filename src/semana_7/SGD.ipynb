{
 "cells": [
  {
   "cell_type": "markdown",
   "id": "6851d861",
   "metadata": {},
   "source": [
    "# Uso de otimizador SGD em classificador"
   ]
  },
  {
   "cell_type": "code",
   "execution_count": 1,
   "id": "69875560",
   "metadata": {},
   "outputs": [],
   "source": [
    "import seaborn as sns"
   ]
  },
  {
   "cell_type": "code",
   "execution_count": 234,
   "id": "f6220b7e",
   "metadata": {},
   "outputs": [],
   "source": [
    "titanic_df = sns.load_dataset('titanic')"
   ]
  },
  {
   "cell_type": "code",
   "execution_count": 235,
   "id": "785946e8",
   "metadata": {},
   "outputs": [],
   "source": [
    "feature_names = ['pclass', 'female', 'age', 'fare'] # classe, feminino, idade, preço da passagem\n",
    "titanic_df['female'] = titanic_df['sex'].map({'male': 0, 'female':1})\n",
    "titanic_df['alive'] = titanic_df['alive'].map({'no': 0, 'yes':1})\n",
    "titanic_df.dropna(subset=feature_names, inplace=True)"
   ]
  },
  {
   "cell_type": "code",
   "execution_count": 236,
   "id": "bd4da07f",
   "metadata": {},
   "outputs": [],
   "source": [
    "X = titanic_df[feature_names].to_numpy()\n",
    "Y = titanic_df['alive'].to_numpy()"
   ]
  },
  {
   "cell_type": "code",
   "execution_count": 237,
   "id": "da3a0ad5",
   "metadata": {},
   "outputs": [],
   "source": [
    "from sklearn.model_selection import train_test_split\n",
    "\n",
    "x_train, x_test, y_train, y_test = train_test_split(\n",
    "    X, Y,\n",
    "    test_size=0.2,\n",
    "    random_state=42,\n",
    "    stratify=Y\n",
    ")"
   ]
  },
  {
   "cell_type": "code",
   "execution_count": 238,
   "id": "3fafb364",
   "metadata": {},
   "outputs": [],
   "source": [
    "import torch\n",
    "import torch.nn as nn\n",
    "import torch.nn.functional as F\n",
    "from torch.utils.data import DataLoader, TensorDataset"
   ]
  },
  {
   "cell_type": "code",
   "execution_count": null,
   "id": "89dc70d5",
   "metadata": {},
   "outputs": [],
   "source": [
    "class ClassBin(nn.Module):\n",
    "    # Construtor\n",
    "    def __init__(self):\n",
    "        super(ClassBin, self).__init__()\n",
    "        self.linear1 = nn.Linear(4, 4)    # primeira hidden layer\n",
    "        self.dropout1 = nn.Dropout(0.2)   # dropout layer\n",
    "        self.linear2 = nn.Linear(4, 4)    # segunda hidden layer\n",
    "        self.dropout2 = nn.Dropout(0.2)   # dropout layer\n",
    "        self.linear3 = nn.Linear(4, 1)    # terceira hidden layer\n",
    "        self.dropout3 = nn.Dropout(0.2)   # dropout layer\n",
    "        self.sigmoid = nn.Sigmoid()\n",
    "\n",
    "    # Propagação (Feed Forward)\n",
    "    def forward(self, x):\n",
    "        x = F.relu(self.linear1(x))\n",
    "        x = self.dropout1(x)\n",
    "        x = F.relu(self.linear2(x))\n",
    "        x = self.dropout2(x)\n",
    "        x = F.relu(self.linear3(x))\n",
    "        x = self.dropout3(x)\n",
    "        x = self.sigmoid(x)\n",
    "        return x\n",
    "\n",
    "model = ClassBin()"
   ]
  },
  {
   "cell_type": "code",
   "execution_count": 240,
   "id": "f36a8904",
   "metadata": {},
   "outputs": [],
   "source": [
    "loss_fn = nn.BCELoss()\n",
    "batch_size = 32\n",
    "max_epochs = 100\n",
    "learning_rate = 0.001\n",
    "momentum = 0.9\n",
    "\n",
    "optimizer = torch.optim.SGD(model.parameters(), lr=learning_rate, momentum=momentum)"
   ]
  },
  {
   "cell_type": "code",
   "execution_count": 241,
   "id": "e0d59c45",
   "metadata": {},
   "outputs": [],
   "source": [
    "# numpy ==> torch.Tensor\n",
    "X_train = torch.Tensor(x_train)\n",
    "X_test = torch.Tensor(x_test)\n",
    "Y_train = torch.Tensor(y_train)\n",
    "Y_test = torch.Tensor(y_test)\n",
    "\n",
    "# Data Set\n",
    "train = TensorDataset(X_train, Y_train)\n",
    "train_loader = DataLoader(train, batch_size=batch_size ,shuffle=True)\n",
    "\n",
    "test = TensorDataset(X_test, Y_test)\n",
    "teste_loader = DataLoader(test, batch_size=batch_size)\n"
   ]
  },
  {
   "cell_type": "code",
   "execution_count": 242,
   "id": "793aa19e",
   "metadata": {},
   "outputs": [
    {
     "name": "stdout",
     "output_type": "stream",
     "text": [
      "epoca  0: loss = 0.660\n",
      "epoca  1: loss = 0.570\n",
      "epoca  2: loss = 0.539\n",
      "epoca  3: loss = 0.573\n",
      "epoca  4: loss = 0.622\n",
      "epoca  5: loss = 0.623\n",
      "epoca  6: loss = 0.721\n",
      "epoca  7: loss = 0.673\n",
      "epoca  8: loss = 0.601\n",
      "epoca  9: loss = 0.598\n",
      "epoca 10: loss = 0.741\n",
      "epoca 11: loss = 0.650\n",
      "epoca 12: loss = 0.691\n",
      "epoca 13: loss = 0.660\n",
      "epoca 14: loss = 0.608\n",
      "epoca 15: loss = 0.607\n",
      "epoca 16: loss = 0.563\n",
      "epoca 17: loss = 0.686\n",
      "epoca 18: loss = 0.575\n",
      "epoca 19: loss = 0.580\n",
      "epoca 20: loss = 0.633\n",
      "epoca 21: loss = 0.695\n",
      "epoca 22: loss = 0.661\n",
      "epoca 23: loss = 0.574\n",
      "epoca 24: loss = 0.572\n",
      "epoca 25: loss = 0.651\n",
      "epoca 26: loss = 0.569\n",
      "epoca 27: loss = 0.607\n",
      "epoca 28: loss = 0.655\n",
      "epoca 29: loss = 0.520\n",
      "epoca 30: loss = 0.608\n",
      "epoca 31: loss = 0.723\n",
      "epoca 32: loss = 0.806\n",
      "epoca 33: loss = 0.748\n",
      "epoca 34: loss = 0.564\n",
      "epoca 35: loss = 0.675\n",
      "epoca 36: loss = 0.578\n",
      "epoca 37: loss = 0.636\n",
      "epoca 38: loss = 0.646\n",
      "epoca 39: loss = 0.776\n",
      "epoca 40: loss = 0.708\n",
      "epoca 41: loss = 0.674\n",
      "epoca 42: loss = 0.546\n",
      "epoca 43: loss = 0.643\n",
      "epoca 44: loss = 0.575\n",
      "epoca 45: loss = 0.558\n",
      "epoca 46: loss = 0.652\n",
      "epoca 47: loss = 0.606\n",
      "epoca 48: loss = 0.650\n",
      "epoca 49: loss = 0.645\n",
      "epoca 50: loss = 0.657\n",
      "epoca 51: loss = 0.666\n",
      "epoca 52: loss = 0.617\n",
      "epoca 53: loss = 0.591\n",
      "epoca 54: loss = 0.614\n",
      "epoca 55: loss = 0.664\n",
      "epoca 56: loss = 0.597\n",
      "epoca 57: loss = 0.594\n",
      "epoca 58: loss = 0.588\n",
      "epoca 59: loss = 0.573\n",
      "epoca 60: loss = 0.710\n",
      "epoca 61: loss = 0.761\n",
      "epoca 62: loss = 0.550\n",
      "epoca 63: loss = 0.590\n",
      "epoca 64: loss = 0.578\n",
      "epoca 65: loss = 0.689\n",
      "epoca 66: loss = 0.556\n",
      "epoca 67: loss = 0.612\n",
      "epoca 68: loss = 0.621\n",
      "epoca 69: loss = 0.524\n",
      "epoca 70: loss = 0.570\n",
      "epoca 71: loss = 0.642\n",
      "epoca 72: loss = 0.601\n",
      "epoca 73: loss = 0.670\n",
      "epoca 74: loss = 0.599\n",
      "epoca 75: loss = 0.639\n",
      "epoca 76: loss = 0.584\n",
      "epoca 77: loss = 0.586\n",
      "epoca 78: loss = 0.700\n",
      "epoca 79: loss = 0.645\n",
      "epoca 80: loss = 0.544\n",
      "epoca 81: loss = 0.534\n",
      "epoca 82: loss = 0.560\n",
      "epoca 83: loss = 0.570\n",
      "epoca 84: loss = 0.869\n",
      "epoca 85: loss = 0.615\n",
      "epoca 86: loss = 0.583\n",
      "epoca 87: loss = 0.665\n",
      "epoca 88: loss = 0.561\n",
      "epoca 89: loss = 0.636\n",
      "epoca 90: loss = 0.637\n",
      "epoca 91: loss = 0.707\n",
      "epoca 92: loss = 0.535\n",
      "epoca 93: loss = 0.647\n",
      "epoca 94: loss = 0.542\n",
      "epoca 95: loss = 0.531\n",
      "epoca 96: loss = 0.641\n",
      "epoca 97: loss = 0.573\n",
      "epoca 98: loss = 0.672\n",
      "epoca 99: loss = 0.618\n"
     ]
    }
   ],
   "source": [
    "model.train()\n",
    "\n",
    "for epoch in range(max_epochs):\n",
    "\n",
    "    for batch in train_loader:\n",
    "\n",
    "        x = batch[0]\n",
    "        y = batch[1]\n",
    "\n",
    "        y_pred = model(x)\n",
    "\n",
    "        loss = loss_fn(y_pred, y.unsqueeze(1))\n",
    "\n",
    "        model.zero_grad()\n",
    "\n",
    "        loss.backward()\n",
    "\n",
    "        optimizer.step()\n",
    "    \n",
    "    print(f\"epoca {epoch:2.0f}: loss = {loss.item():.3f}\")"
   ]
  },
  {
   "cell_type": "code",
   "execution_count": 243,
   "id": "f0abb2e6",
   "metadata": {},
   "outputs": [
    {
     "name": "stdout",
     "output_type": "stream",
     "text": [
      "Acurácia de Treino: 0.695271\n",
      "Acurácia de Teste: 0.692308\n"
     ]
    }
   ],
   "source": [
    "model.eval()\n",
    "    \n",
    "with torch.no_grad():  # Desabilitar gradientes durante avaliação\n",
    "    train_pred = model(X_train)\n",
    "    train_pred_binary = (train_pred > 0.5).float().flatten()\n",
    "    train_acc = torch.sum(train_pred_binary == Y_train) / len(Y_train)\n",
    "\n",
    "    test_pred = model(X_test)\n",
    "    test_pred_binary = (test_pred > 0.5).float().flatten()\n",
    "    test_acc = torch.sum(test_pred_binary == Y_test) / len(Y_test)\n",
    "\n",
    "print(f\"Acurácia de Treino: {train_acc:.6f}\")\n",
    "print(f\"Acurácia de Teste: {test_acc:.6f}\")"
   ]
  }
 ],
 "metadata": {
  "kernelspec": {
   "display_name": ".venv (3.11.9)",
   "language": "python",
   "name": "python3"
  },
  "language_info": {
   "codemirror_mode": {
    "name": "ipython",
    "version": 3
   },
   "file_extension": ".py",
   "mimetype": "text/x-python",
   "name": "python",
   "nbconvert_exporter": "python",
   "pygments_lexer": "ipython3",
   "version": "3.11.9"
  }
 },
 "nbformat": 4,
 "nbformat_minor": 5
}
